{
 "cells": [
  {
   "cell_type": "markdown",
   "metadata": {},
   "source": [
    "# Ford GoBike System Dateset\n",
    "## by Ahmad ALMosallam\n",
    "\n",
    "\n",
    "Ford GoBike System Dateset is a dateset that contains trip data from lyft's bike service for public use. Variables including, trip duration, start time and end time with date, start station and end station names, start and end coordinates, customer type, year of birth and gender."
   ]
  },
  {
   "cell_type": "code",
   "execution_count": 6,
   "metadata": {},
   "outputs": [],
   "source": [
    "# import all packages and set plots to be embedded inline\n",
    "import numpy as np\n",
    "import pandas as pd\n",
    "import matplotlib.pyplot as plt\n",
    "import seaborn as sb\n",
    "from requests import get\n",
    "from zipfile import ZipFile\n",
    "from io import StringIO, BytesIO\n",
    "%matplotlib inline"
   ]
  },
  {
   "cell_type": "markdown",
   "metadata": {},
   "source": [
    "Loading the dataset"
   ]
  },
  {
   "cell_type": "code",
   "execution_count": null,
   "metadata": {},
   "outputs": [],
   "source": []
  },
  {
   "cell_type": "code",
   "execution_count": 14,
   "metadata": {},
   "outputs": [
    {
     "ename": "SyntaxError",
     "evalue": "EOL while scanning string literal (<ipython-input-14-93ab513ce4e8>, line 37)",
     "output_type": "error",
     "traceback": [
      "\u001b[1;36m  File \u001b[1;32m\"<ipython-input-14-93ab513ce4e8>\"\u001b[1;36m, line \u001b[1;32m37\u001b[0m\n\u001b[1;33m    file.extractall(path = '\\Data\\')\u001b[0m\n\u001b[1;37m                                    ^\u001b[0m\n\u001b[1;31mSyntaxError\u001b[0m\u001b[1;31m:\u001b[0m EOL while scanning string literal\n"
     ]
    }
   ],
   "source": [
    "# Here are all the data from the wesite https://s3.amazonaws.com/baywheels-data/index.html\n",
    "links = [\"https://s3.amazonaws.com/baywheels-data/201801-fordgobike-tripdata.csv.zip\"\n",
    "         ,\"https://s3.amazonaws.com/baywheels-data/201802-fordgobike-tripdata.csv.zip\"\n",
    "        ,\"https://s3.amazonaws.com/baywheels-data/201803-fordgobike-tripdata.csv.zip\"\n",
    "         ,\"https://s3.amazonaws.com/baywheels-data/201804-fordgobike-tripdata.csv.zip\"\n",
    "        ,\"https://s3.amazonaws.com/baywheels-data/201805-fordgobike-tripdata.csv.zip\"\n",
    "         ,\"https://s3.amazonaws.com/baywheels-data/201806-fordgobike-tripdata.csv.zip\"\n",
    "        ,\"https://s3.amazonaws.com/baywheels-data/201807-fordgobike-tripdata.csv.zip\"\n",
    "         ,\"https://s3.amazonaws.com/baywheels-data/201808-fordgobike-tripdata.csv.zip\"\n",
    "        ,\"https://s3.amazonaws.com/baywheels-data/201809-fordgobike-tripdata.csv.zip\"\n",
    "         ,\"https://s3.amazonaws.com/baywheels-data/201810-fordgobike-tripdata.csv.zip\"\n",
    "        ,\"https://s3.amazonaws.com/baywheels-data/201811-fordgobike-tripdata.csv.zip\"\n",
    "         ,\"https://s3.amazonaws.com/baywheels-data/201812-fordgobike-tripdata.csv.zip\"\n",
    "        ,\"https://s3.amazonaws.com/baywheels-data/201901-fordgobike-tripdata.csv.zip\"\n",
    "         ,\"https://s3.amazonaws.com/baywheels-data/201902-fordgobike-tripdata.csv.zip\"\n",
    "        ,\"https://s3.amazonaws.com/baywheels-data/201903-fordgobike-tripdata.csv.zip\"\n",
    "         ,\"https://s3.amazonaws.com/baywheels-data/201904-fordgobike-tripdata.csv.zip\"\n",
    "        ,\"https://s3.amazonaws.com/baywheels-data/201905-baywheels-tripdata.csv.zip\",\n",
    "        \"https://s3.amazonaws.com/baywheels-data/201906-baywheels-tripdata.csv.zip\" ,\n",
    "        \"https://s3.amazonaws.com/baywheels-data/201907-baywheels-tripdata.csv.zip\" ,\n",
    "        \"https://s3.amazonaws.com/baywheels-data/201908-baywheels-tripdata.csv.zip\"\n",
    "        , \"https://s3.amazonaws.com/baywheels-data/201909-baywheels-tripdata.csv.zip\",\n",
    "        \"https://s3.amazonaws.com/baywheels-data/201910-baywheels-tripdata.csv.zip\",\n",
    "        \"https://s3.amazonaws.com/baywheels-data/201911-baywheels-tripdata.csv.zip\",\n",
    "        \"https://s3.amazonaws.com/baywheels-data/201912-baywheels-tripdata.csv.zip\",\n",
    "        \"https://s3.amazonaws.com/baywheels-data/202001-baywheels-tripdata.csv.zip\",\n",
    "        \"https://s3.amazonaws.com/baywheels-data/202002-baywheels-tripdata.csv.zip\",\n",
    "        \"https://s3.amazonaws.com/baywheels-data/202003-baywheels-tripdata.csv.zip\",\n",
    "        \"https://s3.amazonaws.com/baywheels-data/202004-baywheels-tripdata.csv.zip\"]\n",
    "\n",
    "# for link in links:\n",
    "#     zipfile = get(link)\n",
    "#     with ZipFile(BytesIO(zipfile.content)) as file:\n",
    "#         file.extractall()\n",
    "zipfile = get(links[0])\n",
    "with ZipFile(BytesIO(zipfile.content)) as file:\n",
    "        file.extractall(path = 'Desktop\\Projects Misk\\Communicate-Data-Findings/Data/')"
   ]
  },
  {
   "cell_type": "code",
   "execution_count": null,
   "metadata": {},
   "outputs": [],
   "source": []
  },
  {
   "cell_type": "markdown",
   "metadata": {},
   "source": [
    "### What is the structure of your dataset?\n",
    "\n",
    "Each trip is anonymized and includes:\n",
    "\n",
    "- Trip Duration (seconds)\n",
    "- Start Time and Date\n",
    "- End Time and Date\n",
    "- Start Station ID\n",
    "- Start Station Name\n",
    "- Start Station Latitude\n",
    "- Start Station Longitude\n",
    "- End Station ID\n",
    "- End Station Name\n",
    "- End Station Latitude\n",
    "- End Station Longitude\n",
    "- Bike ID\n",
    "- User Type (Subscriber or Customer – “Subscriber” = Member or “Customer” = Casual)\n",
    "\n",
    "### What is/are the main feature(s) of interest in your dataset?\n",
    "\n",
    "> Your answer here!\n",
    "\n",
    "### What features in the dataset do you think will help support your investigation into your feature(s) of interest?\n",
    "\n",
    "> Your answer here!"
   ]
  },
  {
   "cell_type": "markdown",
   "metadata": {},
   "source": [
    "## Univariate Exploration\n",
    "\n",
    "> In this section, investigate distributions of individual variables. If\n",
    "you see unusual points or outliers, take a deeper look to clean things up\n",
    "and prepare yourself to look at relationships between variables."
   ]
  },
  {
   "cell_type": "code",
   "execution_count": null,
   "metadata": {},
   "outputs": [],
   "source": []
  },
  {
   "cell_type": "markdown",
   "metadata": {},
   "source": [
    "> Make sure that, after every plot or related series of plots, that you\n",
    "include a Markdown cell with comments about what you observed, and what\n",
    "you plan on investigating next."
   ]
  },
  {
   "cell_type": "code",
   "execution_count": null,
   "metadata": {},
   "outputs": [],
   "source": []
  },
  {
   "cell_type": "markdown",
   "metadata": {},
   "source": [
    "### Discuss the distribution(s) of your variable(s) of interest. Were there any unusual points? Did you need to perform any transformations?\n",
    "\n",
    "> Your answer here!\n",
    "\n",
    "### Of the features you investigated, were there any unusual distributions? Did you perform any operations on the data to tidy, adjust, or change the form of the data? If so, why did you do this?\n",
    "\n",
    "> Your answer here!"
   ]
  },
  {
   "cell_type": "markdown",
   "metadata": {},
   "source": [
    "## Bivariate Exploration\n",
    "\n",
    "> In this section, investigate relationships between pairs of variables in your\n",
    "data. Make sure the variables that you cover here have been introduced in some\n",
    "fashion in the previous section (univariate exploration)."
   ]
  },
  {
   "cell_type": "code",
   "execution_count": null,
   "metadata": {},
   "outputs": [],
   "source": []
  },
  {
   "cell_type": "markdown",
   "metadata": {},
   "source": [
    "### Talk about some of the relationships you observed in this part of the investigation. How did the feature(s) of interest vary with other features in the dataset?\n",
    "\n",
    "> Your answer here!\n",
    "\n",
    "### Did you observe any interesting relationships between the other features (not the main feature(s) of interest)?\n",
    "\n",
    "> Your answer here!"
   ]
  },
  {
   "cell_type": "markdown",
   "metadata": {},
   "source": [
    "## Multivariate Exploration\n",
    "\n",
    "> Create plots of three or more variables to investigate your data even\n",
    "further. Make sure that your investigations are justified, and follow from\n",
    "your work in the previous sections."
   ]
  },
  {
   "cell_type": "code",
   "execution_count": null,
   "metadata": {},
   "outputs": [],
   "source": []
  },
  {
   "cell_type": "markdown",
   "metadata": {},
   "source": [
    "### Talk about some of the relationships you observed in this part of the investigation. Were there features that strengthened each other in terms of looking at your feature(s) of interest?\n",
    "\n",
    "> Your answer here!\n",
    "\n",
    "### Were there any interesting or surprising interactions between features?\n",
    "\n",
    "> Your answer here!"
   ]
  },
  {
   "cell_type": "markdown",
   "metadata": {},
   "source": [
    "> At the end of your report, make sure that you export the notebook as an\n",
    "html file from the `File > Download as... > HTML` menu. Make sure you keep\n",
    "track of where the exported file goes, so you can put it in the same folder\n",
    "as this notebook for project submission. Also, make sure you remove all of\n",
    "the quote-formatted guide notes like this one before you finish your report!"
   ]
  },
  {
   "cell_type": "code",
   "execution_count": null,
   "metadata": {},
   "outputs": [],
   "source": []
  }
 ],
 "metadata": {
  "kernelspec": {
   "display_name": "Python 3",
   "language": "python",
   "name": "python3"
  },
  "language_info": {
   "codemirror_mode": {
    "name": "ipython",
    "version": 3
   },
   "file_extension": ".py",
   "mimetype": "text/x-python",
   "name": "python",
   "nbconvert_exporter": "python",
   "pygments_lexer": "ipython3",
   "version": "3.7.6"
  }
 },
 "nbformat": 4,
 "nbformat_minor": 2
}
