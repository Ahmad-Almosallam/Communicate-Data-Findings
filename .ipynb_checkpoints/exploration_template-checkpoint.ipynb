{
 "cells": [
  {
   "cell_type": "markdown",
   "metadata": {},
   "source": [
    "# Ford GoBike System Dateset\n",
    "## by Ahmad ALMosallam\n",
    "\n",
    "\n",
    "Ford GoBike System Dateset is a dateset that contains trip data from lyft's bike service for public use. Variables including, trip duration, start time and end time with date, start station and end station names, start and end coordinates, customer type, year of birth and gender."
   ]
  },
  {
   "cell_type": "code",
   "execution_count": 51,
   "metadata": {},
   "outputs": [],
   "source": [
    "# import all packages and set plots to be embedded inline\n",
    "import numpy as np\n",
    "import pandas as pd\n",
    "import matplotlib.pyplot as plt\n",
    "import seaborn as sb\n",
    "from requests import get\n",
    "from zipfile import ZipFile\n",
    "from io import StringIO, BytesIO\n",
    "from timeit import default_timer as timer\n",
    "import os\n",
    "%matplotlib inline"
   ]
  },
  {
   "cell_type": "markdown",
   "metadata": {},
   "source": [
    "Loading the dataset"
   ]
  },
  {
   "cell_type": "code",
   "execution_count": 73,
   "metadata": {},
   "outputs": [],
   "source": [
    "# get the data from the site\n",
    "link = \"https://s3.amazonaws.com/baywheels-data/202001-baywheels-tripdata.csv.zip\"\n",
    "zipfile = get(link)\n",
    "filename = link[40:-4]\n",
    "with ZipFile(BytesIO(zipfile.content)) as file:\n",
    "    file.extract(member = filename, path = './Data')"
   ]
  },
  {
   "cell_type": "code",
   "execution_count": 103,
   "metadata": {},
   "outputs": [],
   "source": [
    "df = pd.read_csv('./Data/' + filename)"
   ]
  },
  {
   "cell_type": "code",
   "execution_count": 83,
   "metadata": {},
   "outputs": [
    {
     "name": "stdout",
     "output_type": "stream",
     "text": [
      "22.54542760000004\n"
     ]
    }
   ],
   "source": [
    "# Here are all rest data from the wesite https://s3.amazonaws.com/baywheels-data/index.html For 2020 year\n",
    "links = [\"https://s3.amazonaws.com/baywheels-data/202002-baywheels-tripdata.csv.zip\",\n",
    "        \"https://s3.amazonaws.com/baywheels-data/202003-baywheels-tripdata.csv.zip\"]\n",
    "start = timer()\n",
    "for link in links:\n",
    "    zipfile = get(link)\n",
    "    filename = link[40:-4]\n",
    "    with ZipFile(BytesIO(zipfile.content)) as file:\n",
    "        file.extract(member = filename, path = './Data')\n",
    "        \n",
    "end = timer()\n",
    "print(end - start)"
   ]
  },
  {
   "cell_type": "code",
   "execution_count": 105,
   "metadata": {},
   "outputs": [
    {
     "name": "stderr",
     "output_type": "stream",
     "text": [
      "C:\\Users\\ahmad\\anaconda3\\lib\\site-packages\\IPython\\core\\interactiveshell.py:3063: DtypeWarning: Columns (13) have mixed types.Specify dtype option on import or set low_memory=False.\n",
      "  interactivity=interactivity, compiler=compiler, result=result)\n"
     ]
    }
   ],
   "source": [
    "# Put all the data in one Dataframe\n",
    "list_of_filenames = os.listdir('./Data')\n",
    "for filename in list_of_filenames:\n",
    "    d = pd.read_csv('./Data/' + filename)\n",
    "    df = df.append(d)"
   ]
  },
  {
   "cell_type": "code",
   "execution_count": 106,
   "metadata": {},
   "outputs": [
    {
     "name": "stdout",
     "output_type": "stream",
     "text": [
      "(1081806, 14)\n"
     ]
    },
    {
     "data": {
      "text/html": [
       "<div>\n",
       "<style scoped>\n",
       "    .dataframe tbody tr th:only-of-type {\n",
       "        vertical-align: middle;\n",
       "    }\n",
       "\n",
       "    .dataframe tbody tr th {\n",
       "        vertical-align: top;\n",
       "    }\n",
       "\n",
       "    .dataframe thead th {\n",
       "        text-align: right;\n",
       "    }\n",
       "</style>\n",
       "<table border=\"1\" class=\"dataframe\">\n",
       "  <thead>\n",
       "    <tr style=\"text-align: right;\">\n",
       "      <th></th>\n",
       "      <th>duration_sec</th>\n",
       "      <th>start_time</th>\n",
       "      <th>end_time</th>\n",
       "      <th>start_station_id</th>\n",
       "      <th>start_station_name</th>\n",
       "      <th>start_station_latitude</th>\n",
       "      <th>start_station_longitude</th>\n",
       "      <th>end_station_id</th>\n",
       "      <th>end_station_name</th>\n",
       "      <th>end_station_latitude</th>\n",
       "      <th>end_station_longitude</th>\n",
       "      <th>bike_id</th>\n",
       "      <th>user_type</th>\n",
       "      <th>rental_access_method</th>\n",
       "    </tr>\n",
       "  </thead>\n",
       "  <tbody>\n",
       "    <tr>\n",
       "      <th>0</th>\n",
       "      <td>35187</td>\n",
       "      <td>2020-03-31 20:42:10.0790</td>\n",
       "      <td>2020-04-01 06:28:37.8440</td>\n",
       "      <td>462.0</td>\n",
       "      <td>Cruise Terminal at Pier 27</td>\n",
       "      <td>37.804648</td>\n",
       "      <td>-122.402087</td>\n",
       "      <td>24.0</td>\n",
       "      <td>Spear St at Folsom St</td>\n",
       "      <td>37.789677</td>\n",
       "      <td>-122.390428</td>\n",
       "      <td>10982</td>\n",
       "      <td>Customer</td>\n",
       "      <td>NaN</td>\n",
       "    </tr>\n",
       "    <tr>\n",
       "      <th>1</th>\n",
       "      <td>14568</td>\n",
       "      <td>2020-03-31 22:45:25.5010</td>\n",
       "      <td>2020-04-01 02:48:13.7730</td>\n",
       "      <td>42.0</td>\n",
       "      <td>San Francisco City Hall (Polk St at Grove St)</td>\n",
       "      <td>37.778650</td>\n",
       "      <td>-122.418230</td>\n",
       "      <td>370.0</td>\n",
       "      <td>Jones St at Post St</td>\n",
       "      <td>37.787327</td>\n",
       "      <td>-122.413278</td>\n",
       "      <td>12617</td>\n",
       "      <td>Customer</td>\n",
       "      <td>NaN</td>\n",
       "    </tr>\n",
       "    <tr>\n",
       "      <th>2</th>\n",
       "      <td>35990</td>\n",
       "      <td>2020-03-31 15:08:22.3310</td>\n",
       "      <td>2020-04-01 01:08:12.9900</td>\n",
       "      <td>391.0</td>\n",
       "      <td>1st St at Younger Ave</td>\n",
       "      <td>37.355030</td>\n",
       "      <td>-121.904436</td>\n",
       "      <td>397.0</td>\n",
       "      <td>Gish Rd at 1st St</td>\n",
       "      <td>37.361867</td>\n",
       "      <td>-121.909315</td>\n",
       "      <td>12812</td>\n",
       "      <td>Customer</td>\n",
       "      <td>NaN</td>\n",
       "    </tr>\n",
       "    <tr>\n",
       "      <th>3</th>\n",
       "      <td>1068</td>\n",
       "      <td>2020-03-31 23:55:00.4260</td>\n",
       "      <td>2020-04-01 00:12:49.0200</td>\n",
       "      <td>456.0</td>\n",
       "      <td>Arguello Blvd at Geary Blvd</td>\n",
       "      <td>37.781468</td>\n",
       "      <td>-122.458806</td>\n",
       "      <td>107.0</td>\n",
       "      <td>17th St at Dolores St</td>\n",
       "      <td>37.763015</td>\n",
       "      <td>-122.426497</td>\n",
       "      <td>12955</td>\n",
       "      <td>Customer</td>\n",
       "      <td>NaN</td>\n",
       "    </tr>\n",
       "    <tr>\n",
       "      <th>4</th>\n",
       "      <td>3300</td>\n",
       "      <td>2020-03-31 23:00:55.6410</td>\n",
       "      <td>2020-03-31 23:55:56.6110</td>\n",
       "      <td>6.0</td>\n",
       "      <td>The Embarcadero at Sansome St</td>\n",
       "      <td>37.804770</td>\n",
       "      <td>-122.403234</td>\n",
       "      <td>24.0</td>\n",
       "      <td>Spear St at Folsom St</td>\n",
       "      <td>37.789677</td>\n",
       "      <td>-122.390428</td>\n",
       "      <td>13050</td>\n",
       "      <td>Customer</td>\n",
       "      <td>NaN</td>\n",
       "    </tr>\n",
       "  </tbody>\n",
       "</table>\n",
       "</div>"
      ],
      "text/plain": [
       "   duration_sec                start_time                  end_time  \\\n",
       "0         35187  2020-03-31 20:42:10.0790  2020-04-01 06:28:37.8440   \n",
       "1         14568  2020-03-31 22:45:25.5010  2020-04-01 02:48:13.7730   \n",
       "2         35990  2020-03-31 15:08:22.3310  2020-04-01 01:08:12.9900   \n",
       "3          1068  2020-03-31 23:55:00.4260  2020-04-01 00:12:49.0200   \n",
       "4          3300  2020-03-31 23:00:55.6410  2020-03-31 23:55:56.6110   \n",
       "\n",
       "   start_station_id                             start_station_name  \\\n",
       "0             462.0                     Cruise Terminal at Pier 27   \n",
       "1              42.0  San Francisco City Hall (Polk St at Grove St)   \n",
       "2             391.0                          1st St at Younger Ave   \n",
       "3             456.0                    Arguello Blvd at Geary Blvd   \n",
       "4               6.0                  The Embarcadero at Sansome St   \n",
       "\n",
       "   start_station_latitude  start_station_longitude  end_station_id  \\\n",
       "0               37.804648              -122.402087            24.0   \n",
       "1               37.778650              -122.418230           370.0   \n",
       "2               37.355030              -121.904436           397.0   \n",
       "3               37.781468              -122.458806           107.0   \n",
       "4               37.804770              -122.403234            24.0   \n",
       "\n",
       "        end_station_name  end_station_latitude  end_station_longitude  \\\n",
       "0  Spear St at Folsom St             37.789677            -122.390428   \n",
       "1    Jones St at Post St             37.787327            -122.413278   \n",
       "2      Gish Rd at 1st St             37.361867            -121.909315   \n",
       "3  17th St at Dolores St             37.763015            -122.426497   \n",
       "4  Spear St at Folsom St             37.789677            -122.390428   \n",
       "\n",
       "   bike_id user_type rental_access_method  \n",
       "0    10982  Customer                  NaN  \n",
       "1    12617  Customer                  NaN  \n",
       "2    12812  Customer                  NaN  \n",
       "3    12955  Customer                  NaN  \n",
       "4    13050  Customer                  NaN  "
      ]
     },
     "execution_count": 106,
     "metadata": {},
     "output_type": "execute_result"
    }
   ],
   "source": [
    "print(df.shape)\n",
    "df.head()"
   ]
  },
  {
   "cell_type": "code",
   "execution_count": 107,
   "metadata": {},
   "outputs": [
    {
     "name": "stdout",
     "output_type": "stream",
     "text": [
      "<class 'pandas.core.frame.DataFrame'>\n",
      "Int64Index: 1081806 entries, 0 to 176798\n",
      "Data columns (total 14 columns):\n",
      " #   Column                   Non-Null Count    Dtype  \n",
      "---  ------                   --------------    -----  \n",
      " 0   duration_sec             1081806 non-null  int64  \n",
      " 1   start_time               1081806 non-null  object \n",
      " 2   end_time                 1081806 non-null  object \n",
      " 3   start_station_id         529401 non-null   float64\n",
      " 4   start_station_name       531287 non-null   object \n",
      " 5   start_station_latitude   1081806 non-null  float64\n",
      " 6   start_station_longitude  1081806 non-null  float64\n",
      " 7   end_station_id           530322 non-null   float64\n",
      " 8   end_station_name         532293 non-null   object \n",
      " 9   end_station_latitude     1081806 non-null  float64\n",
      " 10  end_station_longitude    1081806 non-null  float64\n",
      " 11  bike_id                  1081806 non-null  int64  \n",
      " 12  user_type                1081806 non-null  object \n",
      " 13  rental_access_method     732127 non-null   object \n",
      "dtypes: float64(6), int64(2), object(6)\n",
      "memory usage: 123.8+ MB\n"
     ]
    }
   ],
   "source": [
    "df.info()"
   ]
  },
  {
   "cell_type": "code",
   "execution_count": 145,
   "metadata": {},
   "outputs": [
    {
     "name": "stdout",
     "output_type": "stream",
     "text": [
      "<class 'pandas.core.frame.DataFrame'>\n",
      "Int64Index: 610322 entries, 62531 to 432353\n",
      "Data columns (total 15 columns):\n",
      " #   Column                   Non-Null Count   Dtype  \n",
      "---  ------                   --------------   -----  \n",
      " 0   duration_sec             610322 non-null  int64  \n",
      " 1   start_time               610322 non-null  object \n",
      " 2   end_time                 610322 non-null  object \n",
      " 3   start_station_id         130386 non-null  float64\n",
      " 4   start_station_name       131619 non-null  object \n",
      " 5   start_station_latitude   610322 non-null  float64\n",
      " 6   start_station_longitude  610322 non-null  float64\n",
      " 7   end_station_id           130923 non-null  float64\n",
      " 8   end_station_name         132197 non-null  object \n",
      " 9   end_station_latitude     610322 non-null  float64\n",
      " 10  end_station_longitude    610322 non-null  float64\n",
      " 11  bike_id                  610322 non-null  int64  \n",
      " 12  user_type                610322 non-null  object \n",
      " 13  rental_access_method     610322 non-null  object \n",
      " 14  distance                 610322 non-null  float64\n",
      "dtypes: float64(7), int64(2), object(6)\n",
      "memory usage: 74.5+ MB\n"
     ]
    }
   ],
   "source": [
    "# rental_access_method had missing values so I dropped them\n",
    "df = df.query(\"rental_access_method == 'app' or rental_access_method == 'clipper'\")\n",
    "df.info()"
   ]
  },
  {
   "cell_type": "code",
   "execution_count": 125,
   "metadata": {
    "scrolled": true
   },
   "outputs": [
    {
     "data": {
      "text/html": [
       "<div>\n",
       "<style scoped>\n",
       "    .dataframe tbody tr th:only-of-type {\n",
       "        vertical-align: middle;\n",
       "    }\n",
       "\n",
       "    .dataframe tbody tr th {\n",
       "        vertical-align: top;\n",
       "    }\n",
       "\n",
       "    .dataframe thead th {\n",
       "        text-align: right;\n",
       "    }\n",
       "</style>\n",
       "<table border=\"1\" class=\"dataframe\">\n",
       "  <thead>\n",
       "    <tr style=\"text-align: right;\">\n",
       "      <th></th>\n",
       "      <th>duration_sec</th>\n",
       "      <th>start_time</th>\n",
       "      <th>end_time</th>\n",
       "      <th>start_station_id</th>\n",
       "      <th>start_station_name</th>\n",
       "      <th>start_station_latitude</th>\n",
       "      <th>start_station_longitude</th>\n",
       "      <th>end_station_id</th>\n",
       "      <th>end_station_name</th>\n",
       "      <th>end_station_latitude</th>\n",
       "      <th>end_station_longitude</th>\n",
       "      <th>bike_id</th>\n",
       "      <th>user_type</th>\n",
       "      <th>rental_access_method</th>\n",
       "    </tr>\n",
       "  </thead>\n",
       "  <tbody>\n",
       "    <tr>\n",
       "      <th>192452</th>\n",
       "      <td>236</td>\n",
       "      <td>2020-02-29 19:49:18</td>\n",
       "      <td>2020-02-29 19:53:15</td>\n",
       "      <td>NaN</td>\n",
       "      <td>NaN</td>\n",
       "      <td>37.76413</td>\n",
       "      <td>-122.449309</td>\n",
       "      <td>NaN</td>\n",
       "      <td>NaN</td>\n",
       "      <td>37.769432</td>\n",
       "      <td>-122.453087</td>\n",
       "      <td>530703</td>\n",
       "      <td>Subscriber</td>\n",
       "      <td>app</td>\n",
       "    </tr>\n",
       "  </tbody>\n",
       "</table>\n",
       "</div>"
      ],
      "text/plain": [
       "        duration_sec           start_time             end_time  \\\n",
       "192452           236  2020-02-29 19:49:18  2020-02-29 19:53:15   \n",
       "\n",
       "        start_station_id start_station_name  start_station_latitude  \\\n",
       "192452               NaN                NaN                37.76413   \n",
       "\n",
       "        start_station_longitude  end_station_id end_station_name  \\\n",
       "192452              -122.449309             NaN              NaN   \n",
       "\n",
       "        end_station_latitude  end_station_longitude  bike_id   user_type  \\\n",
       "192452             37.769432            -122.453087   530703  Subscriber   \n",
       "\n",
       "       rental_access_method  \n",
       "192452                  app  "
      ]
     },
     "execution_count": 125,
     "metadata": {},
     "output_type": "execute_result"
    }
   ],
   "source": [
    "df.sample()"
   ]
  },
  {
   "cell_type": "code",
   "execution_count": 127,
   "metadata": {},
   "outputs": [
    {
     "data": {
      "text/plain": [
       "121781"
      ]
     },
     "execution_count": 127,
     "metadata": {},
     "output_type": "execute_result"
    }
   ],
   "source": [
    "# check for duplicate rows\n",
    "df.duplicated().sum()"
   ]
  },
  {
   "cell_type": "code",
   "execution_count": 129,
   "metadata": {},
   "outputs": [
    {
     "name": "stdout",
     "output_type": "stream",
     "text": [
      "(610346, 14)\n",
      "0\n"
     ]
    }
   ],
   "source": [
    "# Drop duplicated rows\n",
    "df = df.drop_duplicates()\n",
    "print(df.shape)\n",
    "print(df.duplicated().sum())"
   ]
  },
  {
   "cell_type": "code",
   "execution_count": 141,
   "metadata": {},
   "outputs": [],
   "source": [
    "# Drop when the start latitude or the longitude are 0\n",
    "df = df[df.start_station_longitude != 0]"
   ]
  },
  {
   "cell_type": "markdown",
   "metadata": {},
   "source": [
    "<a id='distance'></a>"
   ]
  },
  {
   "cell_type": "code",
   "execution_count": 226,
   "metadata": {},
   "outputs": [
    {
     "ename": "SyntaxError",
     "evalue": "invalid syntax (<ipython-input-226-689381567a23>, line 3)",
     "output_type": "error",
     "traceback": [
      "\u001b[1;36m  File \u001b[1;32m\"<ipython-input-226-689381567a23>\"\u001b[1;36m, line \u001b[1;32m3\u001b[0m\n\u001b[1;33m    <a id='distance'></a>\u001b[0m\n\u001b[1;37m    ^\u001b[0m\n\u001b[1;31mSyntaxError\u001b[0m\u001b[1;31m:\u001b[0m invalid syntax\n"
     ]
    }
   ],
   "source": [
    "# This funtion gets the distance between the the start station and the end station\n",
    "from math import sin, cos, sqrt, atan2, radians\n",
    "\n",
    "def distance_between_startStation_endStation (lat1,lon1,lat2,lon2):\n",
    "    #  approximate radius of earth in km\n",
    "    R = 6373.0\n",
    "    lat1 = radians(lat1)\n",
    "    lon1 = radians(lon1)\n",
    "    lat2 = radians(lat2)\n",
    "    lon2 = radians(lon2)\n",
    "\n",
    "    dlon = lon2 - lon1\n",
    "    dlat = lat2 - lat1\n",
    "\n",
    "    a = sin(dlat / 2)**2 + cos(lat1) * cos(lat2) * sin(dlon / 2)**2\n",
    "    c = 2 * atan2(sqrt(a), sqrt(1 - a))\n",
    "\n",
    "    distance = R * c\n",
    "    return np.float64(round(1000*distance))"
   ]
  },
  {
   "cell_type": "code",
   "execution_count": 133,
   "metadata": {
    "scrolled": true
   },
   "outputs": [
    {
     "data": {
      "text/html": [
       "<div>\n",
       "<style scoped>\n",
       "    .dataframe tbody tr th:only-of-type {\n",
       "        vertical-align: middle;\n",
       "    }\n",
       "\n",
       "    .dataframe tbody tr th {\n",
       "        vertical-align: top;\n",
       "    }\n",
       "\n",
       "    .dataframe thead th {\n",
       "        text-align: right;\n",
       "    }\n",
       "</style>\n",
       "<table border=\"1\" class=\"dataframe\">\n",
       "  <thead>\n",
       "    <tr style=\"text-align: right;\">\n",
       "      <th></th>\n",
       "      <th>duration_sec</th>\n",
       "      <th>start_time</th>\n",
       "      <th>end_time</th>\n",
       "      <th>start_station_id</th>\n",
       "      <th>start_station_name</th>\n",
       "      <th>start_station_latitude</th>\n",
       "      <th>start_station_longitude</th>\n",
       "      <th>end_station_id</th>\n",
       "      <th>end_station_name</th>\n",
       "      <th>end_station_latitude</th>\n",
       "      <th>end_station_longitude</th>\n",
       "      <th>bike_id</th>\n",
       "      <th>user_type</th>\n",
       "      <th>rental_access_method</th>\n",
       "      <th>distance</th>\n",
       "    </tr>\n",
       "  </thead>\n",
       "  <tbody>\n",
       "    <tr>\n",
       "      <th>273579</th>\n",
       "      <td>686</td>\n",
       "      <td>2020-01-22 20:15:20</td>\n",
       "      <td>2020-01-22 20:26:47</td>\n",
       "      <td>384.0</td>\n",
       "      <td>Jackson St at Polk St</td>\n",
       "      <td>37.79416</td>\n",
       "      <td>-122.421568</td>\n",
       "      <td>NaN</td>\n",
       "      <td>NaN</td>\n",
       "      <td>37.788412</td>\n",
       "      <td>-122.445991</td>\n",
       "      <td>495138</td>\n",
       "      <td>Subscriber</td>\n",
       "      <td>app</td>\n",
       "      <td>2240.0</td>\n",
       "    </tr>\n",
       "  </tbody>\n",
       "</table>\n",
       "</div>"
      ],
      "text/plain": [
       "        duration_sec           start_time             end_time  \\\n",
       "273579           686  2020-01-22 20:15:20  2020-01-22 20:26:47   \n",
       "\n",
       "        start_station_id     start_station_name  start_station_latitude  \\\n",
       "273579             384.0  Jackson St at Polk St                37.79416   \n",
       "\n",
       "        start_station_longitude  end_station_id end_station_name  \\\n",
       "273579              -122.421568             NaN              NaN   \n",
       "\n",
       "        end_station_latitude  end_station_longitude  bike_id   user_type  \\\n",
       "273579             37.788412            -122.445991   495138  Subscriber   \n",
       "\n",
       "       rental_access_method  distance  \n",
       "273579                  app    2240.0  "
      ]
     },
     "execution_count": 133,
     "metadata": {},
     "output_type": "execute_result"
    }
   ],
   "source": [
    "# calculating the distance in each trip\n",
    "df['distance'] = df.apply(lambda row: distance_between_startStation_endStation\n",
    "                          (row['start_station_latitude'],row['start_station_longitude']\n",
    "                            ,row['end_station_latitude'],row['end_station_longitude']),axis=1)\n",
    "df.sample()"
   ]
  },
  {
   "cell_type": "markdown",
   "metadata": {},
   "source": [
    "<a id='drop'><a/>"
   ]
  },
  {
   "cell_type": "code",
   "execution_count": 228,
   "metadata": {},
   "outputs": [],
   "source": [
    "# Drop some useless columns\n",
    "df.drop(axis=1 , columns=['end_station_id' , 'end_station_name' , 'start_station_id' , 'start_station_name' , 'bike_id']\n",
    "        , inplace=True)"
   ]
  },
  {
   "cell_type": "code",
   "execution_count": 229,
   "metadata": {},
   "outputs": [
    {
     "data": {
      "text/plain": [
       "Index(['duration_sec', 'start_time', 'end_time', 'start_station_latitude',\n",
       "       'start_station_longitude', 'end_station_latitude',\n",
       "       'end_station_longitude', 'user_type', 'rental_access_method',\n",
       "       'distance'],\n",
       "      dtype='object')"
      ]
     },
     "execution_count": 229,
     "metadata": {},
     "output_type": "execute_result"
    }
   ],
   "source": [
    "df.columns"
   ]
  },
  {
   "cell_type": "code",
   "execution_count": 152,
   "metadata": {},
   "outputs": [
    {
     "name": "stdout",
     "output_type": "stream",
     "text": [
      "<class 'pandas.core.frame.DataFrame'>\n",
      "Int64Index: 610322 entries, 62531 to 432353\n",
      "Data columns (total 11 columns):\n",
      " #   Column                   Non-Null Count   Dtype  \n",
      "---  ------                   --------------   -----  \n",
      " 0   duration_sec             610322 non-null  int64  \n",
      " 1   start_time               610322 non-null  object \n",
      " 2   end_time                 610322 non-null  object \n",
      " 3   start_station_latitude   610322 non-null  float64\n",
      " 4   start_station_longitude  610322 non-null  float64\n",
      " 5   end_station_latitude     610322 non-null  float64\n",
      " 6   end_station_longitude    610322 non-null  float64\n",
      " 7   bike_id                  610322 non-null  int64  \n",
      " 8   user_type                610322 non-null  object \n",
      " 9   rental_access_method     610322 non-null  object \n",
      " 10  distance                 610322 non-null  float64\n",
      "dtypes: float64(5), int64(2), object(4)\n",
      "memory usage: 55.9+ MB\n"
     ]
    }
   ],
   "source": [
    "df.info()"
   ]
  },
  {
   "cell_type": "code",
   "execution_count": 154,
   "metadata": {},
   "outputs": [
    {
     "name": "stdout",
     "output_type": "stream",
     "text": [
      "<class 'pandas.core.frame.DataFrame'>\n",
      "Int64Index: 610322 entries, 62531 to 432353\n",
      "Data columns (total 11 columns):\n",
      " #   Column                   Non-Null Count   Dtype         \n",
      "---  ------                   --------------   -----         \n",
      " 0   duration_sec             610322 non-null  int64         \n",
      " 1   start_time               610322 non-null  datetime64[ns]\n",
      " 2   end_time                 610322 non-null  datetime64[ns]\n",
      " 3   start_station_latitude   610322 non-null  float64       \n",
      " 4   start_station_longitude  610322 non-null  float64       \n",
      " 5   end_station_latitude     610322 non-null  float64       \n",
      " 6   end_station_longitude    610322 non-null  float64       \n",
      " 7   bike_id                  610322 non-null  int64         \n",
      " 8   user_type                610322 non-null  category      \n",
      " 9   rental_access_method     610322 non-null  category      \n",
      " 10  distance                 610322 non-null  float64       \n",
      "dtypes: category(2), datetime64[ns](2), float64(5), int64(2)\n",
      "memory usage: 47.7 MB\n"
     ]
    }
   ],
   "source": [
    "df['start_time'] = df['start_time'].astype('datetime64[ns]')\n",
    "df['end_time'] = df['end_time'].astype('datetime64[ns]')\n",
    "df['user_type'] = df['user_type'].astype('category')\n",
    "df['rental_access_method'] = df['rental_access_method'].astype('category')\n",
    "df.info()"
   ]
  },
  {
   "cell_type": "markdown",
   "metadata": {},
   "source": [
    "### What is the structure of your dataset?\n",
    "\n",
    "Each trip is anonymized and includes:\n",
    "\n",
    "- Trip Duration (seconds)\n",
    "- Start Time and Date\n",
    "- End Time and Date\n",
    "- Start Station ID\n",
    "- Start Station Name\n",
    "- Start Station Latitude\n",
    "- Start Station Longitude\n",
    "- End Station ID\n",
    "- End Station Name\n",
    "- End Station Latitude\n",
    "- End Station Longitude\n",
    "- Bike ID\n",
    "- User Type (Subscriber or Customer – “Subscriber” = Member or “Customer” = Casual)\n",
    "- Rental Access Method (App or Clipper)\n",
    "\n",
    "### What is/are the main feature(s) of interest in your dataset?\n",
    "\n",
    "- User Type\n",
    "- Rental Access Method\n",
    "- Trip Duration\n",
    "\n",
    "### What features in the dataset do you think will help support your investigation into your feature(s) of interest?\n",
    "\n",
    "- User Type\n",
    "- Rental Access Method\n",
    "- Trip Duration"
   ]
  },
  {
   "cell_type": "markdown",
   "metadata": {},
   "source": [
    "## Univariate Exploration"
   ]
  },
  {
   "cell_type": "code",
   "execution_count": 149,
   "metadata": {},
   "outputs": [
    {
     "data": {
      "text/html": [
       "<div>\n",
       "<style scoped>\n",
       "    .dataframe tbody tr th:only-of-type {\n",
       "        vertical-align: middle;\n",
       "    }\n",
       "\n",
       "    .dataframe tbody tr th {\n",
       "        vertical-align: top;\n",
       "    }\n",
       "\n",
       "    .dataframe thead th {\n",
       "        text-align: right;\n",
       "    }\n",
       "</style>\n",
       "<table border=\"1\" class=\"dataframe\">\n",
       "  <thead>\n",
       "    <tr style=\"text-align: right;\">\n",
       "      <th></th>\n",
       "      <th>duration_sec</th>\n",
       "      <th>start_time</th>\n",
       "      <th>end_time</th>\n",
       "      <th>start_station_latitude</th>\n",
       "      <th>start_station_longitude</th>\n",
       "      <th>end_station_latitude</th>\n",
       "      <th>end_station_longitude</th>\n",
       "      <th>bike_id</th>\n",
       "      <th>user_type</th>\n",
       "      <th>rental_access_method</th>\n",
       "      <th>distance</th>\n",
       "    </tr>\n",
       "  </thead>\n",
       "  <tbody>\n",
       "    <tr>\n",
       "      <th>62531</th>\n",
       "      <td>1090</td>\n",
       "      <td>2020-03-04 20:23:55</td>\n",
       "      <td>2020-03-04 20:42:06</td>\n",
       "      <td>37.253050</td>\n",
       "      <td>-121.841617</td>\n",
       "      <td>37.270961</td>\n",
       "      <td>-121.830474</td>\n",
       "      <td>393666</td>\n",
       "      <td>Customer</td>\n",
       "      <td>app</td>\n",
       "      <td>2223.0</td>\n",
       "    </tr>\n",
       "    <tr>\n",
       "      <th>62532</th>\n",
       "      <td>1083</td>\n",
       "      <td>2020-03-04 20:24:35</td>\n",
       "      <td>2020-03-04 20:42:39</td>\n",
       "      <td>37.253062</td>\n",
       "      <td>-121.841621</td>\n",
       "      <td>37.270974</td>\n",
       "      <td>-121.830441</td>\n",
       "      <td>949847</td>\n",
       "      <td>Customer</td>\n",
       "      <td>app</td>\n",
       "      <td>2225.0</td>\n",
       "    </tr>\n",
       "    <tr>\n",
       "      <th>62533</th>\n",
       "      <td>2185</td>\n",
       "      <td>2020-03-13 19:05:49</td>\n",
       "      <td>2020-03-13 19:42:15</td>\n",
       "      <td>37.268030</td>\n",
       "      <td>-121.820941</td>\n",
       "      <td>37.363792</td>\n",
       "      <td>-121.919796</td>\n",
       "      <td>309589</td>\n",
       "      <td>Subscriber</td>\n",
       "      <td>app</td>\n",
       "      <td>13781.0</td>\n",
       "    </tr>\n",
       "    <tr>\n",
       "      <th>62534</th>\n",
       "      <td>3478</td>\n",
       "      <td>2020-03-07 16:49:06</td>\n",
       "      <td>2020-03-07 17:47:05</td>\n",
       "      <td>37.270289</td>\n",
       "      <td>-121.857498</td>\n",
       "      <td>37.252103</td>\n",
       "      <td>-121.859922</td>\n",
       "      <td>801073</td>\n",
       "      <td>Subscriber</td>\n",
       "      <td>app</td>\n",
       "      <td>2034.0</td>\n",
       "    </tr>\n",
       "    <tr>\n",
       "      <th>62535</th>\n",
       "      <td>270</td>\n",
       "      <td>2020-03-08 17:36:53</td>\n",
       "      <td>2020-03-08 17:41:23</td>\n",
       "      <td>37.270322</td>\n",
       "      <td>-121.861179</td>\n",
       "      <td>37.270571</td>\n",
       "      <td>-121.857307</td>\n",
       "      <td>504348</td>\n",
       "      <td>Subscriber</td>\n",
       "      <td>app</td>\n",
       "      <td>344.0</td>\n",
       "    </tr>\n",
       "  </tbody>\n",
       "</table>\n",
       "</div>"
      ],
      "text/plain": [
       "       duration_sec           start_time             end_time  \\\n",
       "62531          1090  2020-03-04 20:23:55  2020-03-04 20:42:06   \n",
       "62532          1083  2020-03-04 20:24:35  2020-03-04 20:42:39   \n",
       "62533          2185  2020-03-13 19:05:49  2020-03-13 19:42:15   \n",
       "62534          3478  2020-03-07 16:49:06  2020-03-07 17:47:05   \n",
       "62535           270  2020-03-08 17:36:53  2020-03-08 17:41:23   \n",
       "\n",
       "       start_station_latitude  start_station_longitude  end_station_latitude  \\\n",
       "62531               37.253050              -121.841617             37.270961   \n",
       "62532               37.253062              -121.841621             37.270974   \n",
       "62533               37.268030              -121.820941             37.363792   \n",
       "62534               37.270289              -121.857498             37.252103   \n",
       "62535               37.270322              -121.861179             37.270571   \n",
       "\n",
       "       end_station_longitude  bike_id   user_type rental_access_method  \\\n",
       "62531            -121.830474   393666    Customer                  app   \n",
       "62532            -121.830441   949847    Customer                  app   \n",
       "62533            -121.919796   309589  Subscriber                  app   \n",
       "62534            -121.859922   801073  Subscriber                  app   \n",
       "62535            -121.857307   504348  Subscriber                  app   \n",
       "\n",
       "       distance  \n",
       "62531    2223.0  \n",
       "62532    2225.0  \n",
       "62533   13781.0  \n",
       "62534    2034.0  \n",
       "62535     344.0  "
      ]
     },
     "execution_count": 149,
     "metadata": {},
     "output_type": "execute_result"
    }
   ],
   "source": [
    "df.head()"
   ]
  },
  {
   "cell_type": "code",
   "execution_count": 155,
   "metadata": {},
   "outputs": [
    {
     "name": "stdout",
     "output_type": "stream",
     "text": [
      "<class 'pandas.core.frame.DataFrame'>\n",
      "Int64Index: 610322 entries, 62531 to 432353\n",
      "Data columns (total 11 columns):\n",
      " #   Column                   Non-Null Count   Dtype         \n",
      "---  ------                   --------------   -----         \n",
      " 0   duration_sec             610322 non-null  int64         \n",
      " 1   start_time               610322 non-null  datetime64[ns]\n",
      " 2   end_time                 610322 non-null  datetime64[ns]\n",
      " 3   start_station_latitude   610322 non-null  float64       \n",
      " 4   start_station_longitude  610322 non-null  float64       \n",
      " 5   end_station_latitude     610322 non-null  float64       \n",
      " 6   end_station_longitude    610322 non-null  float64       \n",
      " 7   bike_id                  610322 non-null  int64         \n",
      " 8   user_type                610322 non-null  category      \n",
      " 9   rental_access_method     610322 non-null  category      \n",
      " 10  distance                 610322 non-null  float64       \n",
      "dtypes: category(2), datetime64[ns](2), float64(5), int64(2)\n",
      "memory usage: 47.7 MB\n"
     ]
    }
   ],
   "source": [
    "df.info()"
   ]
  },
  {
   "cell_type": "code",
   "execution_count": 162,
   "metadata": {},
   "outputs": [
    {
     "data": {
      "image/png": "[encoded data removed]",
      "text/plain": [
       "<Figure size 432x288 with 1 Axes>"
      ]
     },
     "metadata": {
      "needs_background": "light"
     },
     "output_type": "display_data"
    }
   ],
   "source": [
    "# Distance hist distribution\n",
    "bin_edges = np.arange(0, (2133 + 1.5* 1247) +500, 500)\n",
    "plt.hist(data = df, x ='distance', bins = bin_edges);\n",
    "plt.title('Distance hist distribution')\n",
    "plt.xlabel('Distance');"
   ]
  },
  {
   "cell_type": "markdown",
   "metadata": {},
   "source": [
    "**Observation:** As showen above the distribution is roughly right skewed, and most the trip distance between 500 to 1500 meters"
   ]
  },
  {
   "cell_type": "code",
   "execution_count": 220,
   "metadata": {},
   "outputs": [
    {
     "data": {
      "image/png": "[encoded data removed]",
      "text/plain": [
       "<Figure size 432x288 with 1 Axes>"
      ]
     },
     "metadata": {
      "needs_background": "light"
     },
     "output_type": "display_data"
    }
   ],
   "source": [
    "# Plot of the type of users\n",
    "type_user = df.user_type.value_counts()\n",
    "sb.countplot(data = df , x = 'user_type' , color = sb.color_palette()[0]);\n",
    "plt.title('comparison on the number of Subscriber and customer');\n",
    "\n",
    "locs, labels = plt.xticks() # get the current tick locations and labels\n",
    "# loop through each pair of locations and labels\n",
    "for loc, label in zip(locs, labels):\n",
    "\n",
    "    # get the text property for the label to get the correct count\n",
    "    count = type_user[label.get_text()]\n",
    "    pct_string = '{:0.1f}%'.format(100*count/df.shape[0])\n",
    "\n",
    "    # print the annotation just below the top of the bar\n",
    "    plt.text(loc, 50000, pct_string, ha = 'center', color = 'w');"
   ]
  },
  {
   "cell_type": "markdown",
   "metadata": {},
   "source": [
    "**Observation:** From the plot above it`s clear that most of the clients are subscribers with 86.2% and for the customer 13.8."
   ]
  },
  {
   "cell_type": "code",
   "execution_count": 223,
   "metadata": {},
   "outputs": [
    {
     "data": {
      "image/png": "[encoded data removed]",
      "text/plain": [
       "<Figure size 432x288 with 1 Axes>"
      ]
     },
     "metadata": {
      "needs_background": "light"
     },
     "output_type": "display_data"
    }
   ],
   "source": [
    "# Plot of the type of users\n",
    "type_rental = df.rental_access_method.value_counts()\n",
    "sb.countplot(data = df , x = 'rental_access_method' , color = sb.color_palette()[0]);\n",
    "plt.title('comparison on the number of rental for app or clipper');\n",
    "\n",
    "locs, labels = plt.xticks() # get the current tick locations and labels\n",
    "# loop through each pair of locations and labels\n",
    "for loc, label in zip(locs, labels):\n",
    "\n",
    "    # get the text property for the label to get the correct count\n",
    "    count = type_rental[label.get_text()]\n",
    "    pct_string = '{:0.1f}%'.format(100*count/df.shape[0])\n",
    "\n",
    "    # print the annotation just below the top of the bar\n",
    "    plt.text(loc, 5000, pct_string, ha = 'center', color = 'w');"
   ]
  },
  {
   "cell_type": "markdown",
   "metadata": {},
   "source": [
    "**Observation:** From the plot above 92.3% of the clients uses the app to get a bike and 7.7% uses clipper."
   ]
  },
  {
   "cell_type": "code",
   "execution_count": 225,
   "metadata": {},
   "outputs": [
    {
     "data": {
      "image/png": "[encoded data removed]",
      "text/plain": [
       "<Figure size 432x288 with 1 Axes>"
      ]
     },
     "metadata": {
      "needs_background": "light"
     },
     "output_type": "display_data"
    }
   ],
   "source": [
    "bin_edges = 10 ** np.arange(1.785330, 4.936358 + 0.1, 0.1)\n",
    "ticks = [30,100,300,1000,3000,10000,30000,100000]\n",
    "labls = ['{}'.format(v) for v in ticks]\n",
    "plt.hist(data = df, x ='duration_sec', bins = bin_edges);\n",
    "plt.xscale(\"log\");\n",
    "plt.xticks(ticks,labls);\n",
    "plt.title('Hist represent the duration use of bike in seconds')\n",
    "plt.xlabel('duration in sec');"
   ]
  },
  {
   "cell_type": "markdown",
   "metadata": {},
   "source": [
    "**Observation:** From the plot above clearly most of the riders spend around 300 to 1000 sec in minute 5 to 17 minute.and there is small number of the riders spend 10,000 sec almost 3 hours."
   ]
  },
  {
   "cell_type": "markdown",
   "metadata": {},
   "source": [
    "### Discuss the distribution(s) of your variable(s) of interest. Were there any unusual points? Did you need to perform any transformations?\n",
    "\n",
    "in the duration_sec I used log scale to get an uniform distribution\n",
    "\n",
    "### Of the features you investigated, were there any unusual distributions? Did you perform any operations on the data to tidy, adjust, or change the form of the data? If so, why did you do this?\n",
    "\n",
    "No, none of the features were there any unusual.\n",
    "\n",
    "I calculated the distance for each trip using the function [here](#distance). Also, dropped some useless columns [here](#drop)"
   ]
  },
  {
   "cell_type": "markdown",
   "metadata": {},
   "source": [
    "## Bivariate Exploration\n",
    "\n",
    "> In this section, investigate relationships between pairs of variables in your\n",
    "data. Make sure the variables that you cover here have been introduced in some\n",
    "fashion in the previous section (univariate exploration)."
   ]
  },
  {
   "cell_type": "code",
   "execution_count": null,
   "metadata": {},
   "outputs": [],
   "source": []
  },
  {
   "cell_type": "markdown",
   "metadata": {},
   "source": [
    "### Talk about some of the relationships you observed in this part of the investigation. How did the feature(s) of interest vary with other features in the dataset?\n",
    "\n",
    "> Your answer here!\n",
    "\n",
    "### Did you observe any interesting relationships between the other features (not the main feature(s) of interest)?\n",
    "\n",
    "> Your answer here!"
   ]
  },
  {
   "cell_type": "markdown",
   "metadata": {},
   "source": [
    "## Multivariate Exploration\n",
    "\n",
    "> Create plots of three or more variables to investigate your data even\n",
    "further. Make sure that your investigations are justified, and follow from\n",
    "your work in the previous sections."
   ]
  },
  {
   "cell_type": "code",
   "execution_count": null,
   "metadata": {},
   "outputs": [],
   "source": []
  },
  {
   "cell_type": "markdown",
   "metadata": {},
   "source": [
    "### Talk about some of the relationships you observed in this part of the investigation. Were there features that strengthened each other in terms of looking at your feature(s) of interest?\n",
    "\n",
    "> Your answer here!\n",
    "\n",
    "### Were there any interesting or surprising interactions between features?\n",
    "\n",
    "> Your answer here!"
   ]
  },
  {
   "cell_type": "markdown",
   "metadata": {},
   "source": [
    "> At the end of your report, make sure that you export the notebook as an\n",
    "html file from the `File > Download as... > HTML` menu. Make sure you keep\n",
    "track of where the exported file goes, so you can put it in the same folder\n",
    "as this notebook for project submission. Also, make sure you remove all of\n",
    "the quote-formatted guide notes like this one before you finish your report!"
   ]
  },
  {
   "cell_type": "code",
   "execution_count": null,
   "metadata": {},
   "outputs": [],
   "source": []
  }
 ],
 "metadata": {
  "kernelspec": {
   "display_name": "Python 3",
   "language": "python",
   "name": "python3"
  },
  "language_info": {
   "codemirror_mode": {
    "name": "ipython",
    "version": 3
   },
   "file_extension": ".py",
   "mimetype": "text/x-python",
   "name": "python",
   "nbconvert_exporter": "python",
   "pygments_lexer": "ipython3",
   "version": "3.7.6"
  }
 },
 "nbformat": 4,
 "nbformat_minor": 2
}
