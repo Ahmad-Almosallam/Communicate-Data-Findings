{
 "cells": [
  {
   "cell_type": "markdown",
   "metadata": {},
   "source": [
    "# Ford GoBike System Dateset\n",
    "## by Ahmad ALMosallam\n",
    "\n",
    "\n",
    "Ford GoBike System Dateset is a dateset that contains trip data from lyft's bike service for public use. Variables including, trip duration, start time and end time with date, start station and end station names, start and end coordinates, customer type, year of birth and gender."
   ]
  },
  {
   "cell_type": "code",
   "execution_count": 48,
   "metadata": {},
   "outputs": [],
   "source": [
    "# import all packages and set plots to be embedded inline\n",
    "import numpy as np\n",
    "import pandas as pd\n",
    "import matplotlib.pyplot as plt\n",
    "import seaborn as sb\n",
    "from requests import get\n",
    "from zipfile import ZipFile\n",
    "from io import StringIO, BytesIO\n",
    "from timeit import default_timer as timer\n",
    "import os\n",
    "%matplotlib inline"
   ]
  },
  {
   "cell_type": "markdown",
   "metadata": {},
   "source": [
    "Loading the dataset"
   ]
  },
  {
   "cell_type": "code",
   "execution_count": 49,
   "metadata": {},
   "outputs": [],
   "source": [
    "link = \"https://s3.amazonaws.com/baywheels-data/202001-baywheels-tripdata.csv.zip\"\n",
    "filename = link[40:-4]"
   ]
  },
  {
   "cell_type": "code",
   "execution_count": 50,
   "metadata": {},
   "outputs": [],
   "source": [
    "# get the data from the site\n",
    "zipfile = get(link)\n",
    "with ZipFile(BytesIO(zipfile.content)) as file:\n",
    "    file.extract(member = filename, path = './Data')"
   ]
  },
  {
   "cell_type": "code",
   "execution_count": 51,
   "metadata": {},
   "outputs": [
    {
     "name": "stderr",
     "output_type": "stream",
     "text": [
      "C:\\Users\\ahmad\\anaconda3\\lib\\site-packages\\IPython\\core\\interactiveshell.py:3063: DtypeWarning: Columns (13) have mixed types.Specify dtype option on import or set low_memory=False.\n",
      "  interactivity=interactivity, compiler=compiler, result=result)\n"
     ]
    }
   ],
   "source": [
    "df = pd.read_csv('./Data/' + filename)"
   ]
  },
  {
   "cell_type": "code",
   "execution_count": 52,
   "metadata": {},
   "outputs": [
    {
     "name": "stdout",
     "output_type": "stream",
     "text": [
      "17.355597699999862\n"
     ]
    }
   ],
   "source": [
    "# Here are all rest data from the wesite https://s3.amazonaws.com/baywheels-data/index.html For 2020 year\n",
    "links = [\"https://s3.amazonaws.com/baywheels-data/202002-baywheels-tripdata.csv.zip\",\n",
    "        \"https://s3.amazonaws.com/baywheels-data/202003-baywheels-tripdata.csv.zip\"]\n",
    "start = timer()\n",
    "for link in links:\n",
    "    zipfile = get(link)\n",
    "    filename = link[40:-4]\n",
    "    with ZipFile(BytesIO(zipfile.content)) as file:\n",
    "        file.extract(member = filename, path = './Data')\n",
    "        \n",
    "end = timer()\n",
    "print(end - start)"
   ]
  },
  {
   "cell_type": "code",
   "execution_count": 53,
   "metadata": {},
   "outputs": [],
   "source": [
    "# Put all the data in one Dataframe\n",
    "list_of_filenames = os.listdir('./Data')\n",
    "for filename in list_of_filenames:\n",
    "    d = pd.read_csv('./Data/' + filename)\n",
    "    df = df.append(d)"
   ]
  },
  {
   "cell_type": "code",
   "execution_count": 54,
   "metadata": {},
   "outputs": [
    {
     "name": "stdout",
     "output_type": "stream",
     "text": [
      "(1200861, 14)\n"
     ]
    },
    {
     "data": {
      "text/html": [
       "<div>\n",
       "<style scoped>\n",
       "    .dataframe tbody tr th:only-of-type {\n",
       "        vertical-align: middle;\n",
       "    }\n",
       "\n",
       "    .dataframe tbody tr th {\n",
       "        vertical-align: top;\n",
       "    }\n",
       "\n",
       "    .dataframe thead th {\n",
       "        text-align: right;\n",
       "    }\n",
       "</style>\n",
       "<table border=\"1\" class=\"dataframe\">\n",
       "  <thead>\n",
       "    <tr style=\"text-align: right;\">\n",
       "      <th></th>\n",
       "      <th>duration_sec</th>\n",
       "      <th>start_time</th>\n",
       "      <th>end_time</th>\n",
       "      <th>start_station_id</th>\n",
       "      <th>start_station_name</th>\n",
       "      <th>start_station_latitude</th>\n",
       "      <th>start_station_longitude</th>\n",
       "      <th>end_station_id</th>\n",
       "      <th>end_station_name</th>\n",
       "      <th>end_station_latitude</th>\n",
       "      <th>end_station_longitude</th>\n",
       "      <th>bike_id</th>\n",
       "      <th>user_type</th>\n",
       "      <th>rental_access_method</th>\n",
       "    </tr>\n",
       "  </thead>\n",
       "  <tbody>\n",
       "    <tr>\n",
       "      <th>0</th>\n",
       "      <td>83118</td>\n",
       "      <td>2020-01-31 15:23:47.7330</td>\n",
       "      <td>2020-02-01 14:29:06.2630</td>\n",
       "      <td>400.0</td>\n",
       "      <td>Buchanan St at North Point St</td>\n",
       "      <td>37.804272</td>\n",
       "      <td>-122.433537</td>\n",
       "      <td>400.0</td>\n",
       "      <td>Buchanan St at North Point St</td>\n",
       "      <td>37.804272</td>\n",
       "      <td>-122.433537</td>\n",
       "      <td>13052</td>\n",
       "      <td>Customer</td>\n",
       "      <td>NaN</td>\n",
       "    </tr>\n",
       "    <tr>\n",
       "      <th>1</th>\n",
       "      <td>68239</td>\n",
       "      <td>2020-01-31 15:40:31.6160</td>\n",
       "      <td>2020-02-01 10:37:51.0000</td>\n",
       "      <td>99.0</td>\n",
       "      <td>Folsom St at 15th St</td>\n",
       "      <td>37.767037</td>\n",
       "      <td>-122.415443</td>\n",
       "      <td>99.0</td>\n",
       "      <td>Folsom St at 15th St</td>\n",
       "      <td>37.767037</td>\n",
       "      <td>-122.415443</td>\n",
       "      <td>12235</td>\n",
       "      <td>Subscriber</td>\n",
       "      <td>NaN</td>\n",
       "    </tr>\n",
       "    <tr>\n",
       "      <th>2</th>\n",
       "      <td>55407</td>\n",
       "      <td>2020-01-31 17:48:16.6350</td>\n",
       "      <td>2020-02-01 09:11:44.3170</td>\n",
       "      <td>197.0</td>\n",
       "      <td>El Embarcadero at Grand Ave</td>\n",
       "      <td>37.808848</td>\n",
       "      <td>-122.249680</td>\n",
       "      <td>197.0</td>\n",
       "      <td>El Embarcadero at Grand Ave</td>\n",
       "      <td>37.808848</td>\n",
       "      <td>-122.249680</td>\n",
       "      <td>12822</td>\n",
       "      <td>Customer</td>\n",
       "      <td>NaN</td>\n",
       "    </tr>\n",
       "    <tr>\n",
       "      <th>3</th>\n",
       "      <td>54929</td>\n",
       "      <td>2020-01-31 17:53:03.4130</td>\n",
       "      <td>2020-02-01 09:08:32.6340</td>\n",
       "      <td>197.0</td>\n",
       "      <td>El Embarcadero at Grand Ave</td>\n",
       "      <td>37.808848</td>\n",
       "      <td>-122.249680</td>\n",
       "      <td>197.0</td>\n",
       "      <td>El Embarcadero at Grand Ave</td>\n",
       "      <td>37.808848</td>\n",
       "      <td>-122.249680</td>\n",
       "      <td>11705</td>\n",
       "      <td>Customer</td>\n",
       "      <td>NaN</td>\n",
       "    </tr>\n",
       "    <tr>\n",
       "      <th>4</th>\n",
       "      <td>55700</td>\n",
       "      <td>2020-01-31 17:12:33.4600</td>\n",
       "      <td>2020-02-01 08:40:53.6460</td>\n",
       "      <td>12.0</td>\n",
       "      <td>Pier 1/2 at The Embarcadero</td>\n",
       "      <td>37.796389</td>\n",
       "      <td>-122.394586</td>\n",
       "      <td>371.0</td>\n",
       "      <td>Lombard St at Columbus Ave</td>\n",
       "      <td>37.802746</td>\n",
       "      <td>-122.413579</td>\n",
       "      <td>3673</td>\n",
       "      <td>Customer</td>\n",
       "      <td>NaN</td>\n",
       "    </tr>\n",
       "  </tbody>\n",
       "</table>\n",
       "</div>"
      ],
      "text/plain": [
       "   duration_sec                start_time                  end_time  \\\n",
       "0         83118  2020-01-31 15:23:47.7330  2020-02-01 14:29:06.2630   \n",
       "1         68239  2020-01-31 15:40:31.6160  2020-02-01 10:37:51.0000   \n",
       "2         55407  2020-01-31 17:48:16.6350  2020-02-01 09:11:44.3170   \n",
       "3         54929  2020-01-31 17:53:03.4130  2020-02-01 09:08:32.6340   \n",
       "4         55700  2020-01-31 17:12:33.4600  2020-02-01 08:40:53.6460   \n",
       "\n",
       "   start_station_id             start_station_name  start_station_latitude  \\\n",
       "0             400.0  Buchanan St at North Point St               37.804272   \n",
       "1              99.0           Folsom St at 15th St               37.767037   \n",
       "2             197.0    El Embarcadero at Grand Ave               37.808848   \n",
       "3             197.0    El Embarcadero at Grand Ave               37.808848   \n",
       "4              12.0    Pier 1/2 at The Embarcadero               37.796389   \n",
       "\n",
       "   start_station_longitude  end_station_id               end_station_name  \\\n",
       "0              -122.433537           400.0  Buchanan St at North Point St   \n",
       "1              -122.415443            99.0           Folsom St at 15th St   \n",
       "2              -122.249680           197.0    El Embarcadero at Grand Ave   \n",
       "3              -122.249680           197.0    El Embarcadero at Grand Ave   \n",
       "4              -122.394586           371.0     Lombard St at Columbus Ave   \n",
       "\n",
       "   end_station_latitude  end_station_longitude  bike_id   user_type  \\\n",
       "0             37.804272            -122.433537    13052    Customer   \n",
       "1             37.767037            -122.415443    12235  Subscriber   \n",
       "2             37.808848            -122.249680    12822    Customer   \n",
       "3             37.808848            -122.249680    11705    Customer   \n",
       "4             37.802746            -122.413579     3673    Customer   \n",
       "\n",
       "  rental_access_method  \n",
       "0                  NaN  \n",
       "1                  NaN  \n",
       "2                  NaN  \n",
       "3                  NaN  \n",
       "4                  NaN  "
      ]
     },
     "execution_count": 54,
     "metadata": {},
     "output_type": "execute_result"
    }
   ],
   "source": [
    "print(df.shape)\n",
    "df.head()"
   ]
  },
  {
   "cell_type": "code",
   "execution_count": 55,
   "metadata": {},
   "outputs": [
    {
     "name": "stdout",
     "output_type": "stream",
     "text": [
      "<class 'pandas.core.frame.DataFrame'>\n",
      "Int64Index: 1200861 entries, 0 to 176798\n",
      "Data columns (total 14 columns):\n",
      " #   Column                   Non-Null Count    Dtype  \n",
      "---  ------                   --------------    -----  \n",
      " 0   duration_sec             1200861 non-null  int64  \n",
      " 1   start_time               1200861 non-null  object \n",
      " 2   end_time                 1200861 non-null  object \n",
      " 3   start_station_id         564991 non-null   float64\n",
      " 4   start_station_name       566804 non-null   object \n",
      " 5   start_station_latitude   1200861 non-null  float64\n",
      " 6   start_station_longitude  1200861 non-null  float64\n",
      " 7   end_station_id           565159 non-null   float64\n",
      " 8   end_station_name         567010 non-null   object \n",
      " 9   end_station_latitude     1200861 non-null  float64\n",
      " 10  end_station_longitude    1200861 non-null  float64\n",
      " 11  bike_id                  1200861 non-null  int64  \n",
      " 12  user_type                1200861 non-null  object \n",
      " 13  rental_access_method     803604 non-null   object \n",
      "dtypes: float64(6), int64(2), object(6)\n",
      "memory usage: 137.4+ MB\n"
     ]
    }
   ],
   "source": [
    "df.info()"
   ]
  },
  {
   "cell_type": "code",
   "execution_count": 56,
   "metadata": {},
   "outputs": [
    {
     "name": "stdout",
     "output_type": "stream",
     "text": [
      "<class 'pandas.core.frame.DataFrame'>\n",
      "Int64Index: 803604 entries, 110108 to 176798\n",
      "Data columns (total 14 columns):\n",
      " #   Column                   Non-Null Count   Dtype  \n",
      "---  ------                   --------------   -----  \n",
      " 0   duration_sec             803604 non-null  int64  \n",
      " 1   start_time               803604 non-null  object \n",
      " 2   end_time                 803604 non-null  object \n",
      " 3   start_station_id         167734 non-null  float64\n",
      " 4   start_station_name       169547 non-null  object \n",
      " 5   start_station_latitude   803604 non-null  float64\n",
      " 6   start_station_longitude  803604 non-null  float64\n",
      " 7   end_station_id           167902 non-null  float64\n",
      " 8   end_station_name         169753 non-null  object \n",
      " 9   end_station_latitude     803604 non-null  float64\n",
      " 10  end_station_longitude    803604 non-null  float64\n",
      " 11  bike_id                  803604 non-null  int64  \n",
      " 12  user_type                803604 non-null  object \n",
      " 13  rental_access_method     803604 non-null  object \n",
      "dtypes: float64(6), int64(2), object(6)\n",
      "memory usage: 92.0+ MB\n"
     ]
    }
   ],
   "source": [
    "# rental_access_method have missing values so I dropped them\n",
    "df = df.query(\"rental_access_method == 'app' or rental_access_method == 'clipper'\")\n",
    "df.info()"
   ]
  },
  {
   "cell_type": "code",
   "execution_count": 57,
   "metadata": {
    "scrolled": true
   },
   "outputs": [
    {
     "data": {
      "text/html": [
       "<div>\n",
       "<style scoped>\n",
       "    .dataframe tbody tr th:only-of-type {\n",
       "        vertical-align: middle;\n",
       "    }\n",
       "\n",
       "    .dataframe tbody tr th {\n",
       "        vertical-align: top;\n",
       "    }\n",
       "\n",
       "    .dataframe thead th {\n",
       "        text-align: right;\n",
       "    }\n",
       "</style>\n",
       "<table border=\"1\" class=\"dataframe\">\n",
       "  <thead>\n",
       "    <tr style=\"text-align: right;\">\n",
       "      <th></th>\n",
       "      <th>duration_sec</th>\n",
       "      <th>start_time</th>\n",
       "      <th>end_time</th>\n",
       "      <th>start_station_id</th>\n",
       "      <th>start_station_name</th>\n",
       "      <th>start_station_latitude</th>\n",
       "      <th>start_station_longitude</th>\n",
       "      <th>end_station_id</th>\n",
       "      <th>end_station_name</th>\n",
       "      <th>end_station_latitude</th>\n",
       "      <th>end_station_longitude</th>\n",
       "      <th>bike_id</th>\n",
       "      <th>user_type</th>\n",
       "      <th>rental_access_method</th>\n",
       "    </tr>\n",
       "  </thead>\n",
       "  <tbody>\n",
       "    <tr>\n",
       "      <th>261023</th>\n",
       "      <td>391</td>\n",
       "      <td>2020-01-01 17:42:36</td>\n",
       "      <td>2020-01-01 17:49:08</td>\n",
       "      <td>NaN</td>\n",
       "      <td>NaN</td>\n",
       "      <td>37.789936</td>\n",
       "      <td>-122.411242</td>\n",
       "      <td>NaN</td>\n",
       "      <td>NaN</td>\n",
       "      <td>37.795585</td>\n",
       "      <td>-122.41164</td>\n",
       "      <td>421934</td>\n",
       "      <td>Subscriber</td>\n",
       "      <td>app</td>\n",
       "    </tr>\n",
       "  </tbody>\n",
       "</table>\n",
       "</div>"
      ],
      "text/plain": [
       "        duration_sec           start_time             end_time  \\\n",
       "261023           391  2020-01-01 17:42:36  2020-01-01 17:49:08   \n",
       "\n",
       "        start_station_id start_station_name  start_station_latitude  \\\n",
       "261023               NaN                NaN               37.789936   \n",
       "\n",
       "        start_station_longitude  end_station_id end_station_name  \\\n",
       "261023              -122.411242             NaN              NaN   \n",
       "\n",
       "        end_station_latitude  end_station_longitude  bike_id   user_type  \\\n",
       "261023             37.795585             -122.41164   421934  Subscriber   \n",
       "\n",
       "       rental_access_method  \n",
       "261023                  app  "
      ]
     },
     "execution_count": 57,
     "metadata": {},
     "output_type": "execute_result"
    }
   ],
   "source": [
    "df.sample()"
   ]
  },
  {
   "cell_type": "code",
   "execution_count": 58,
   "metadata": {},
   "outputs": [
    {
     "data": {
      "text/plain": [
       "193258"
      ]
     },
     "execution_count": 58,
     "metadata": {},
     "output_type": "execute_result"
    }
   ],
   "source": [
    "# check for duplicate rows\n",
    "df.duplicated().sum()"
   ]
  },
  {
   "cell_type": "code",
   "execution_count": 59,
   "metadata": {},
   "outputs": [
    {
     "name": "stdout",
     "output_type": "stream",
     "text": [
      "(610346, 14)\n",
      "0\n"
     ]
    }
   ],
   "source": [
    "# Drop duplicated rows\n",
    "df = df.drop_duplicates()\n",
    "print(df.shape)\n",
    "print(df.duplicated().sum())"
   ]
  },
  {
   "cell_type": "code",
   "execution_count": 60,
   "metadata": {},
   "outputs": [],
   "source": [
    "# Drop when the start latitude or the longitude are 0\n",
    "df = df[df.start_station_longitude != 0]"
   ]
  },
  {
   "cell_type": "code",
   "execution_count": 61,
   "metadata": {},
   "outputs": [],
   "source": [
    "# Drop when the end latitude or the longitude are 0\n",
    "df = df[df.end_station_latitude != 0]"
   ]
  },
  {
   "cell_type": "markdown",
   "metadata": {},
   "source": [
    "<a id='distance'></a>"
   ]
  },
  {
   "cell_type": "code",
   "execution_count": 62,
   "metadata": {},
   "outputs": [],
   "source": [
    "# This funtion gets the distance between the the start station and the end station\n",
    "from math import sin, cos, sqrt, atan2, radians\n",
    "\n",
    "def distance_between_startStation_endStation (lat1,lon1,lat2,lon2):\n",
    "    #  approximate radius of earth in km\n",
    "    R = 6373.0\n",
    "    lat1 = radians(lat1)\n",
    "    lon1 = radians(lon1)\n",
    "    lat2 = radians(lat2)\n",
    "    lon2 = radians(lon2)\n",
    "\n",
    "    dlon = lon2 - lon1\n",
    "    dlat = lat2 - lat1\n",
    "\n",
    "    a = sin(dlat / 2)**2 + cos(lat1) * cos(lat2) * sin(dlon / 2)**2\n",
    "    c = 2 * atan2(sqrt(a), sqrt(1 - a))\n",
    "\n",
    "    distance = R * c\n",
    "    return np.float64(round(1000*distance))"
   ]
  },
  {
   "cell_type": "code",
   "execution_count": 63,
   "metadata": {
    "scrolled": true
   },
   "outputs": [
    {
     "data": {
      "text/html": [
       "<div>\n",
       "<style scoped>\n",
       "    .dataframe tbody tr th:only-of-type {\n",
       "        vertical-align: middle;\n",
       "    }\n",
       "\n",
       "    .dataframe tbody tr th {\n",
       "        vertical-align: top;\n",
       "    }\n",
       "\n",
       "    .dataframe thead th {\n",
       "        text-align: right;\n",
       "    }\n",
       "</style>\n",
       "<table border=\"1\" class=\"dataframe\">\n",
       "  <thead>\n",
       "    <tr style=\"text-align: right;\">\n",
       "      <th></th>\n",
       "      <th>duration_sec</th>\n",
       "      <th>start_time</th>\n",
       "      <th>end_time</th>\n",
       "      <th>start_station_id</th>\n",
       "      <th>start_station_name</th>\n",
       "      <th>start_station_latitude</th>\n",
       "      <th>start_station_longitude</th>\n",
       "      <th>end_station_id</th>\n",
       "      <th>end_station_name</th>\n",
       "      <th>end_station_latitude</th>\n",
       "      <th>end_station_longitude</th>\n",
       "      <th>bike_id</th>\n",
       "      <th>user_type</th>\n",
       "      <th>rental_access_method</th>\n",
       "      <th>distance</th>\n",
       "    </tr>\n",
       "  </thead>\n",
       "  <tbody>\n",
       "    <tr>\n",
       "      <th>221938</th>\n",
       "      <td>177</td>\n",
       "      <td>2020-01-30 14:52:10</td>\n",
       "      <td>2020-01-30 14:55:07</td>\n",
       "      <td>474.0</td>\n",
       "      <td>14th Ave at Geary Blvd</td>\n",
       "      <td>37.780471</td>\n",
       "      <td>-122.472823</td>\n",
       "      <td>NaN</td>\n",
       "      <td>NaN</td>\n",
       "      <td>37.780375</td>\n",
       "      <td>-122.475216</td>\n",
       "      <td>908873</td>\n",
       "      <td>Subscriber</td>\n",
       "      <td>app</td>\n",
       "      <td>211.0</td>\n",
       "    </tr>\n",
       "  </tbody>\n",
       "</table>\n",
       "</div>"
      ],
      "text/plain": [
       "        duration_sec           start_time             end_time  \\\n",
       "221938           177  2020-01-30 14:52:10  2020-01-30 14:55:07   \n",
       "\n",
       "        start_station_id      start_station_name  start_station_latitude  \\\n",
       "221938             474.0  14th Ave at Geary Blvd               37.780471   \n",
       "\n",
       "        start_station_longitude  end_station_id end_station_name  \\\n",
       "221938              -122.472823             NaN              NaN   \n",
       "\n",
       "        end_station_latitude  end_station_longitude  bike_id   user_type  \\\n",
       "221938             37.780375            -122.475216   908873  Subscriber   \n",
       "\n",
       "       rental_access_method  distance  \n",
       "221938                  app     211.0  "
      ]
     },
     "execution_count": 63,
     "metadata": {},
     "output_type": "execute_result"
    }
   ],
   "source": [
    "# calculating the distance in each trip\n",
    "df['distance'] = df.apply(lambda row: distance_between_startStation_endStation\n",
    "                          (row['start_station_latitude'],row['start_station_longitude']\n",
    "                            ,row['end_station_latitude'],row['end_station_longitude']),axis=1)\n",
    "df.sample()"
   ]
  },
  {
   "cell_type": "markdown",
   "metadata": {},
   "source": [
    "<a id='drop'><a/>"
   ]
  },
  {
   "cell_type": "code",
   "execution_count": 64,
   "metadata": {},
   "outputs": [],
   "source": [
    "# Drop some useless columns\n",
    "df.drop(axis=1 , columns=['end_station_id' , 'end_station_name' , 'start_station_id' , 'start_station_name' , 'bike_id']\n",
    "        , inplace=True)"
   ]
  },
  {
   "cell_type": "code",
   "execution_count": 65,
   "metadata": {},
   "outputs": [
    {
     "data": {
      "text/plain": [
       "Index(['duration_sec', 'start_time', 'end_time', 'start_station_latitude',\n",
       "       'start_station_longitude', 'end_station_latitude',\n",
       "       'end_station_longitude', 'user_type', 'rental_access_method',\n",
       "       'distance'],\n",
       "      dtype='object')"
      ]
     },
     "execution_count": 65,
     "metadata": {},
     "output_type": "execute_result"
    }
   ],
   "source": [
    "df.columns"
   ]
  },
  {
   "cell_type": "code",
   "execution_count": 66,
   "metadata": {},
   "outputs": [
    {
     "name": "stdout",
     "output_type": "stream",
     "text": [
      "<class 'pandas.core.frame.DataFrame'>\n",
      "Int64Index: 610311 entries, 110116 to 176798\n",
      "Data columns (total 10 columns):\n",
      " #   Column                   Non-Null Count   Dtype  \n",
      "---  ------                   --------------   -----  \n",
      " 0   duration_sec             610311 non-null  int64  \n",
      " 1   start_time               610311 non-null  object \n",
      " 2   end_time                 610311 non-null  object \n",
      " 3   start_station_latitude   610311 non-null  float64\n",
      " 4   start_station_longitude  610311 non-null  float64\n",
      " 5   end_station_latitude     610311 non-null  float64\n",
      " 6   end_station_longitude    610311 non-null  float64\n",
      " 7   user_type                610311 non-null  object \n",
      " 8   rental_access_method     610311 non-null  object \n",
      " 9   distance                 610311 non-null  float64\n",
      "dtypes: float64(5), int64(1), object(4)\n",
      "memory usage: 51.2+ MB\n"
     ]
    }
   ],
   "source": [
    "df.info()"
   ]
  },
  {
   "cell_type": "code",
   "execution_count": 67,
   "metadata": {},
   "outputs": [
    {
     "name": "stdout",
     "output_type": "stream",
     "text": [
      "<class 'pandas.core.frame.DataFrame'>\n",
      "Int64Index: 610311 entries, 110116 to 176798\n",
      "Data columns (total 10 columns):\n",
      " #   Column                   Non-Null Count   Dtype         \n",
      "---  ------                   --------------   -----         \n",
      " 0   duration_sec             610311 non-null  int64         \n",
      " 1   start_time               610311 non-null  datetime64[ns]\n",
      " 2   end_time                 610311 non-null  datetime64[ns]\n",
      " 3   start_station_latitude   610311 non-null  float64       \n",
      " 4   start_station_longitude  610311 non-null  float64       \n",
      " 5   end_station_latitude     610311 non-null  float64       \n",
      " 6   end_station_longitude    610311 non-null  float64       \n",
      " 7   user_type                610311 non-null  category      \n",
      " 8   rental_access_method     610311 non-null  category      \n",
      " 9   distance                 610311 non-null  float64       \n",
      "dtypes: category(2), datetime64[ns](2), float64(5), int64(1)\n",
      "memory usage: 43.1 MB\n"
     ]
    }
   ],
   "source": [
    "df['start_time'] = df['start_time'].astype('datetime64[ns]')\n",
    "df['end_time'] = df['end_time'].astype('datetime64[ns]')\n",
    "df['user_type'] = df['user_type'].astype('category')\n",
    "df['rental_access_method'] = df['rental_access_method'].astype('category')\n",
    "df.info()"
   ]
  },
  {
   "cell_type": "code",
   "execution_count": 250,
   "metadata": {},
   "outputs": [],
   "source": [
    "# Get the day of each ride and store it on column day\n",
    "# run this cell will take time\n",
    "df['day'] = df.apply(lambda x:x['start_time'].day_name() , axis=1)"
   ]
  },
  {
   "cell_type": "markdown",
   "metadata": {},
   "source": [
    "### What is the structure of your dataset?\n",
    "\n",
    "Each trip is anonymized and includes:\n",
    "\n",
    "- Trip Duration (seconds)\n",
    "- Start Time and Date\n",
    "- End Time and Date\n",
    "- Start Station ID\n",
    "- Start Station Name\n",
    "- Start Station Latitude\n",
    "- Start Station Longitude\n",
    "- End Station ID\n",
    "- End Station Name\n",
    "- End Station Latitude\n",
    "- End Station Longitude\n",
    "- Bike ID\n",
    "- User Type (Subscriber or Customer – “Subscriber” = Member or “Customer” = Casual)\n",
    "- Rental Access Method (App or Clipper)\n",
    "\n",
    "### What is/are the main feature(s) of interest in your dataset?\n",
    "\n",
    "- User Type\n",
    "- Rental Access Method\n",
    "- Trip Duration\n",
    "\n",
    "### What features in the dataset do you think will help support your investigation into your feature(s) of interest?\n",
    "\n",
    "- Start Station Latitude\n",
    "- Start Station Longitude\n",
    "- End Station Latitude\n",
    "- End Station Longitude"
   ]
  },
  {
   "cell_type": "markdown",
   "metadata": {},
   "source": [
    "## Univariate Exploration"
   ]
  },
  {
   "cell_type": "code",
   "execution_count": 68,
   "metadata": {},
   "outputs": [
    {
     "data": {
      "text/html": [
       "<div>\n",
       "<style scoped>\n",
       "    .dataframe tbody tr th:only-of-type {\n",
       "        vertical-align: middle;\n",
       "    }\n",
       "\n",
       "    .dataframe tbody tr th {\n",
       "        vertical-align: top;\n",
       "    }\n",
       "\n",
       "    .dataframe thead th {\n",
       "        text-align: right;\n",
       "    }\n",
       "</style>\n",
       "<table border=\"1\" class=\"dataframe\">\n",
       "  <thead>\n",
       "    <tr style=\"text-align: right;\">\n",
       "      <th></th>\n",
       "      <th>duration_sec</th>\n",
       "      <th>start_time</th>\n",
       "      <th>end_time</th>\n",
       "      <th>start_station_latitude</th>\n",
       "      <th>start_station_longitude</th>\n",
       "      <th>end_station_latitude</th>\n",
       "      <th>end_station_longitude</th>\n",
       "      <th>user_type</th>\n",
       "      <th>rental_access_method</th>\n",
       "      <th>distance</th>\n",
       "    </tr>\n",
       "  </thead>\n",
       "  <tbody>\n",
       "    <tr>\n",
       "      <th>110116</th>\n",
       "      <td>1600</td>\n",
       "      <td>2020-01-18 19:03:45</td>\n",
       "      <td>2020-01-18 19:30:25</td>\n",
       "      <td>37.275291</td>\n",
       "      <td>-121.891856</td>\n",
       "      <td>37.280270</td>\n",
       "      <td>-121.908048</td>\n",
       "      <td>Customer</td>\n",
       "      <td>app</td>\n",
       "      <td>1536.0</td>\n",
       "    </tr>\n",
       "    <tr>\n",
       "      <th>110117</th>\n",
       "      <td>1938</td>\n",
       "      <td>2020-01-25 17:32:53</td>\n",
       "      <td>2020-01-25 18:05:12</td>\n",
       "      <td>37.279192</td>\n",
       "      <td>-121.835867</td>\n",
       "      <td>37.259106</td>\n",
       "      <td>-121.831157</td>\n",
       "      <td>Customer</td>\n",
       "      <td>app</td>\n",
       "      <td>2273.0</td>\n",
       "    </tr>\n",
       "    <tr>\n",
       "      <th>110118</th>\n",
       "      <td>2007</td>\n",
       "      <td>2020-01-25 17:33:13</td>\n",
       "      <td>2020-01-25 18:06:40</td>\n",
       "      <td>37.279202</td>\n",
       "      <td>-121.835868</td>\n",
       "      <td>37.258978</td>\n",
       "      <td>-121.831147</td>\n",
       "      <td>Customer</td>\n",
       "      <td>app</td>\n",
       "      <td>2288.0</td>\n",
       "    </tr>\n",
       "    <tr>\n",
       "      <th>110119</th>\n",
       "      <td>567</td>\n",
       "      <td>2020-01-29 15:32:04</td>\n",
       "      <td>2020-01-29 15:41:32</td>\n",
       "      <td>37.282298</td>\n",
       "      <td>-121.838755</td>\n",
       "      <td>37.292066</td>\n",
       "      <td>-121.832024</td>\n",
       "      <td>Customer</td>\n",
       "      <td>app</td>\n",
       "      <td>1239.0</td>\n",
       "    </tr>\n",
       "    <tr>\n",
       "      <th>110120</th>\n",
       "      <td>1107</td>\n",
       "      <td>2020-01-30 17:41:38</td>\n",
       "      <td>2020-01-30 18:00:05</td>\n",
       "      <td>37.283072</td>\n",
       "      <td>-121.832709</td>\n",
       "      <td>37.304321</td>\n",
       "      <td>-121.860995</td>\n",
       "      <td>Customer</td>\n",
       "      <td>app</td>\n",
       "      <td>3443.0</td>\n",
       "    </tr>\n",
       "  </tbody>\n",
       "</table>\n",
       "</div>"
      ],
      "text/plain": [
       "        duration_sec          start_time            end_time  \\\n",
       "110116          1600 2020-01-18 19:03:45 2020-01-18 19:30:25   \n",
       "110117          1938 2020-01-25 17:32:53 2020-01-25 18:05:12   \n",
       "110118          2007 2020-01-25 17:33:13 2020-01-25 18:06:40   \n",
       "110119           567 2020-01-29 15:32:04 2020-01-29 15:41:32   \n",
       "110120          1107 2020-01-30 17:41:38 2020-01-30 18:00:05   \n",
       "\n",
       "        start_station_latitude  start_station_longitude  end_station_latitude  \\\n",
       "110116               37.275291              -121.891856             37.280270   \n",
       "110117               37.279192              -121.835867             37.259106   \n",
       "110118               37.279202              -121.835868             37.258978   \n",
       "110119               37.282298              -121.838755             37.292066   \n",
       "110120               37.283072              -121.832709             37.304321   \n",
       "\n",
       "        end_station_longitude user_type rental_access_method  distance  \n",
       "110116            -121.908048  Customer                  app    1536.0  \n",
       "110117            -121.831157  Customer                  app    2273.0  \n",
       "110118            -121.831147  Customer                  app    2288.0  \n",
       "110119            -121.832024  Customer                  app    1239.0  \n",
       "110120            -121.860995  Customer                  app    3443.0  "
      ]
     },
     "execution_count": 68,
     "metadata": {},
     "output_type": "execute_result"
    }
   ],
   "source": [
    "df.head()"
   ]
  },
  {
   "cell_type": "code",
   "execution_count": 69,
   "metadata": {},
   "outputs": [
    {
     "name": "stdout",
     "output_type": "stream",
     "text": [
      "<class 'pandas.core.frame.DataFrame'>\n",
      "Int64Index: 610311 entries, 110116 to 176798\n",
      "Data columns (total 10 columns):\n",
      " #   Column                   Non-Null Count   Dtype         \n",
      "---  ------                   --------------   -----         \n",
      " 0   duration_sec             610311 non-null  int64         \n",
      " 1   start_time               610311 non-null  datetime64[ns]\n",
      " 2   end_time                 610311 non-null  datetime64[ns]\n",
      " 3   start_station_latitude   610311 non-null  float64       \n",
      " 4   start_station_longitude  610311 non-null  float64       \n",
      " 5   end_station_latitude     610311 non-null  float64       \n",
      " 6   end_station_longitude    610311 non-null  float64       \n",
      " 7   user_type                610311 non-null  category      \n",
      " 8   rental_access_method     610311 non-null  category      \n",
      " 9   distance                 610311 non-null  float64       \n",
      "dtypes: category(2), datetime64[ns](2), float64(5), int64(1)\n",
      "memory usage: 43.1 MB\n"
     ]
    }
   ],
   "source": [
    "df.info()"
   ]
  },
  {
   "cell_type": "code",
   "execution_count": 92,
   "metadata": {},
   "outputs": [
    {
     "data": {
      "image/png": "[encoded data removed]",
      "text/plain": [
       "<Figure size 432x288 with 1 Axes>"
      ]
     },
     "metadata": {
      "needs_background": "light"
     },
     "output_type": "display_data"
    }
   ],
   "source": [
    "# Distance hist distribution\n",
    "bin_edges = np.arange(0, (2133 + 1.5* 1247) +500, 500)\n",
    "plt.hist(data = df, x ='distance', bins = bin_edges);\n",
    "plt.title('Distance hist distribution')\n",
    "plt.xlim((500,4500))\n",
    "plt.xlabel('Distance');"
   ]
  },
  {
   "cell_type": "markdown",
   "metadata": {},
   "source": [
    "**Observation:** As showen above the distribution is roughly right skewed, and most the trip distance between 500 to 1500 meters"
   ]
  },
  {
   "cell_type": "code",
   "execution_count": 72,
   "metadata": {},
   "outputs": [
    {
     "data": {
      "image/png": "[encoded data removed]",
      "text/plain": [
       "<Figure size 432x288 with 1 Axes>"
      ]
     },
     "metadata": {
      "needs_background": "light"
     },
     "output_type": "display_data"
    }
   ],
   "source": [
    "# Plot of the type of users\n",
    "type_user = df.user_type.value_counts()\n",
    "sb.countplot(data = df , x = 'user_type' , color = sb.color_palette()[0]);\n",
    "plt.title('comparison on the number of Subscriber and customer');\n",
    "\n",
    "locs, labels = plt.xticks() # get the current tick locations and labels\n",
    "# loop through each pair of locations and labels\n",
    "for loc, label in zip(locs, labels):\n",
    "\n",
    "    # get the text property for the label to get the correct count\n",
    "    count = type_user[label.get_text()]\n",
    "    pct_string = '{:0.1f}%'.format(100*count/df.shape[0])\n",
    "\n",
    "    # print the annotation just below the top of the bar\n",
    "    plt.text(loc, 50000, pct_string, ha = 'center', color = 'w');"
   ]
  },
  {
   "cell_type": "markdown",
   "metadata": {},
   "source": [
    "**Observation:** From the plot above it`s clear that most of the clients are subscribers with 86.2% and for the customer 13.8."
   ]
  },
  {
   "cell_type": "markdown",
   "metadata": {},
   "source": [
    "<a id='rental'></a>"
   ]
  },
  {
   "cell_type": "code",
   "execution_count": 73,
   "metadata": {},
   "outputs": [
    {
     "data": {
      "image/png": "[encoded data removed]",
      "text/plain": [
       "<Figure size 432x288 with 1 Axes>"
      ]
     },
     "metadata": {
      "needs_background": "light"
     },
     "output_type": "display_data"
    }
   ],
   "source": [
    "# Plot of the type of users\n",
    "type_rental = df.rental_access_method.value_counts()\n",
    "sb.countplot(data = df , x = 'rental_access_method' , color = sb.color_palette()[0]);\n",
    "plt.title('comparison on the number of rental for app or clipper');\n",
    "\n",
    "locs, labels = plt.xticks() # get the current tick locations and labels\n",
    "# loop through each pair of locations and labels\n",
    "for loc, label in zip(locs, labels):\n",
    "\n",
    "    # get the text property for the label to get the correct count\n",
    "    count = type_rental[label.get_text()]\n",
    "    pct_string = '{:0.1f}%'.format(100*count/df.shape[0])\n",
    "\n",
    "    # print the annotation just below the top of the bar\n",
    "    plt.text(loc, 5000, pct_string, ha = 'center', color = 'w');"
   ]
  },
  {
   "cell_type": "markdown",
   "metadata": {},
   "source": [
    "**Observation:** From the plot above 92.3% of the clients uses the app to get a bike and 7.7% uses clipper."
   ]
  },
  {
   "cell_type": "code",
   "execution_count": 88,
   "metadata": {},
   "outputs": [
    {
     "data": {
      "image/png": "[encoded data removed]",
      "text/plain": [
       "<Figure size 432x288 with 1 Axes>"
      ]
     },
     "metadata": {
      "needs_background": "light"
     },
     "output_type": "display_data"
    }
   ],
   "source": [
    "bin_edges = 10 ** np.arange(1.785330, 4.936358 + 0.1, 0.1)\n",
    "ticks = [100,300, 600 ,1000 ,2000,3000,10000]\n",
    "labls = ['{}'.format(v) for v in ticks]\n",
    "plt.hist(data = df, x ='duration_sec', bins = bin_edges);\n",
    "plt.xscale(\"log\");\n",
    "plt.xticks(ticks,labls);\n",
    "plt.title('Hist represent the duration use of bike in seconds')\n",
    "plt.xlim((100,10000))\n",
    "plt.xlabel('duration in sec');"
   ]
  },
  {
   "cell_type": "markdown",
   "metadata": {},
   "source": [
    "**Observation:** From the plot above clearly most of the riders spend around 300 to 1000 sec in minute 5 to 17 minute.and there is small number of the riders spend 10,000 sec almost 3 hours. The average is around 600 to 1000"
   ]
  },
  {
   "cell_type": "markdown",
   "metadata": {},
   "source": [
    "### Discuss the distribution(s) of your variable(s) of interest. Were there any unusual points? Did you need to perform any transformations?\n",
    "\n",
    "in the duration_sec I used log scale to get an uniform distribution\n",
    "\n",
    "### Of the features you investigated, were there any unusual distributions? Did you perform any operations on the data to tidy, adjust, or change the form of the data? If so, why did you do this?\n",
    "\n",
    "No, none of the features were there any unusual.\n",
    "\n",
    "I calculated the distance for each trip using the function [here](#distance). Also, dropped some useless columns [here](#drop)"
   ]
  },
  {
   "cell_type": "markdown",
   "metadata": {},
   "source": [
    "## Bivariate Exploration\n",
    "\n"
   ]
  },
  {
   "cell_type": "code",
   "execution_count": 89,
   "metadata": {},
   "outputs": [
    {
     "data": {
      "text/html": [
       "<div>\n",
       "<style scoped>\n",
       "    .dataframe tbody tr th:only-of-type {\n",
       "        vertical-align: middle;\n",
       "    }\n",
       "\n",
       "    .dataframe tbody tr th {\n",
       "        vertical-align: top;\n",
       "    }\n",
       "\n",
       "    .dataframe thead th {\n",
       "        text-align: right;\n",
       "    }\n",
       "</style>\n",
       "<table border=\"1\" class=\"dataframe\">\n",
       "  <thead>\n",
       "    <tr style=\"text-align: right;\">\n",
       "      <th></th>\n",
       "      <th>duration_sec</th>\n",
       "      <th>start_time</th>\n",
       "      <th>end_time</th>\n",
       "      <th>start_station_latitude</th>\n",
       "      <th>start_station_longitude</th>\n",
       "      <th>end_station_latitude</th>\n",
       "      <th>end_station_longitude</th>\n",
       "      <th>user_type</th>\n",
       "      <th>rental_access_method</th>\n",
       "      <th>distance</th>\n",
       "    </tr>\n",
       "  </thead>\n",
       "  <tbody>\n",
       "    <tr>\n",
       "      <th>110116</th>\n",
       "      <td>1600</td>\n",
       "      <td>2020-01-18 19:03:45</td>\n",
       "      <td>2020-01-18 19:30:25</td>\n",
       "      <td>37.275291</td>\n",
       "      <td>-121.891856</td>\n",
       "      <td>37.280270</td>\n",
       "      <td>-121.908048</td>\n",
       "      <td>Customer</td>\n",
       "      <td>app</td>\n",
       "      <td>1536.0</td>\n",
       "    </tr>\n",
       "    <tr>\n",
       "      <th>110117</th>\n",
       "      <td>1938</td>\n",
       "      <td>2020-01-25 17:32:53</td>\n",
       "      <td>2020-01-25 18:05:12</td>\n",
       "      <td>37.279192</td>\n",
       "      <td>-121.835867</td>\n",
       "      <td>37.259106</td>\n",
       "      <td>-121.831157</td>\n",
       "      <td>Customer</td>\n",
       "      <td>app</td>\n",
       "      <td>2273.0</td>\n",
       "    </tr>\n",
       "    <tr>\n",
       "      <th>110118</th>\n",
       "      <td>2007</td>\n",
       "      <td>2020-01-25 17:33:13</td>\n",
       "      <td>2020-01-25 18:06:40</td>\n",
       "      <td>37.279202</td>\n",
       "      <td>-121.835868</td>\n",
       "      <td>37.258978</td>\n",
       "      <td>-121.831147</td>\n",
       "      <td>Customer</td>\n",
       "      <td>app</td>\n",
       "      <td>2288.0</td>\n",
       "    </tr>\n",
       "    <tr>\n",
       "      <th>110119</th>\n",
       "      <td>567</td>\n",
       "      <td>2020-01-29 15:32:04</td>\n",
       "      <td>2020-01-29 15:41:32</td>\n",
       "      <td>37.282298</td>\n",
       "      <td>-121.838755</td>\n",
       "      <td>37.292066</td>\n",
       "      <td>-121.832024</td>\n",
       "      <td>Customer</td>\n",
       "      <td>app</td>\n",
       "      <td>1239.0</td>\n",
       "    </tr>\n",
       "    <tr>\n",
       "      <th>110120</th>\n",
       "      <td>1107</td>\n",
       "      <td>2020-01-30 17:41:38</td>\n",
       "      <td>2020-01-30 18:00:05</td>\n",
       "      <td>37.283072</td>\n",
       "      <td>-121.832709</td>\n",
       "      <td>37.304321</td>\n",
       "      <td>-121.860995</td>\n",
       "      <td>Customer</td>\n",
       "      <td>app</td>\n",
       "      <td>3443.0</td>\n",
       "    </tr>\n",
       "  </tbody>\n",
       "</table>\n",
       "</div>"
      ],
      "text/plain": [
       "        duration_sec          start_time            end_time  \\\n",
       "110116          1600 2020-01-18 19:03:45 2020-01-18 19:30:25   \n",
       "110117          1938 2020-01-25 17:32:53 2020-01-25 18:05:12   \n",
       "110118          2007 2020-01-25 17:33:13 2020-01-25 18:06:40   \n",
       "110119           567 2020-01-29 15:32:04 2020-01-29 15:41:32   \n",
       "110120          1107 2020-01-30 17:41:38 2020-01-30 18:00:05   \n",
       "\n",
       "        start_station_latitude  start_station_longitude  end_station_latitude  \\\n",
       "110116               37.275291              -121.891856             37.280270   \n",
       "110117               37.279192              -121.835867             37.259106   \n",
       "110118               37.279202              -121.835868             37.258978   \n",
       "110119               37.282298              -121.838755             37.292066   \n",
       "110120               37.283072              -121.832709             37.304321   \n",
       "\n",
       "        end_station_longitude user_type rental_access_method  distance  \n",
       "110116            -121.908048  Customer                  app    1536.0  \n",
       "110117            -121.831157  Customer                  app    2273.0  \n",
       "110118            -121.831147  Customer                  app    2288.0  \n",
       "110119            -121.832024  Customer                  app    1239.0  \n",
       "110120            -121.860995  Customer                  app    3443.0  "
      ]
     },
     "execution_count": 89,
     "metadata": {},
     "output_type": "execute_result"
    }
   ],
   "source": [
    "df.head()"
   ]
  },
  {
   "cell_type": "code",
   "execution_count": 100,
   "metadata": {},
   "outputs": [],
   "source": [
    "numeric_vars = ['duration_sec', 'start_station_latitude', 'start_station_longitude' ,'end_station_latitude' ,\n",
    "                'end_station_longitude' , 'distance']"
   ]
  },
  {
   "cell_type": "code",
   "execution_count": 101,
   "metadata": {},
   "outputs": [
    {
     "data": {
      "image/png": "[encoded data removed]",
      "text/plain": [
       "<Figure size 576x360 with 2 Axes>"
      ]
     },
     "metadata": {
      "needs_background": "light"
     },
     "output_type": "display_data"
    }
   ],
   "source": [
    "# correlation plot\n",
    "plt.figure(figsize = [8, 5])\n",
    "sb.heatmap(df[numeric_vars].corr(), annot = True, fmt = '.3f',\n",
    "           cmap = 'vlag_r', center = 0)\n",
    "plt.show()"
   ]
  },
  {
   "cell_type": "markdown",
   "metadata": {},
   "source": [
    "**Observation:** As expected, the start_station_latitude and end_station_latitude have a strong correlation with 0,994 also the start_station_longitude and end_station_longitude have a strong correlation with 0,992.\n",
    "But the start_station_latitude and start_station_longitude have a negitive correlation with -0.984 as expected.\n",
    "The distance and the duration_sec have a low positive correlation with 0.249. "
   ]
  },
  {
   "cell_type": "code",
   "execution_count": 141,
   "metadata": {},
   "outputs": [
    {
     "data": {
      "image/png": "[encoded data removed]",
      "text/plain": [
       "<Figure size 432x288 with 1 Axes>"
      ]
     },
     "metadata": {
      "needs_background": "light"
     },
     "output_type": "display_data"
    }
   ],
   "source": [
    "sb.barplot(data = df.query(\"distance <= 2133+ 1.5*1247\"),x = 'user_type',y='duration_sec',\n",
    "               color = sb.color_palette()[0]);\n",
    "plt.title('How on average user type spend on the bike');"
   ]
  },
  {
   "cell_type": "markdown",
   "metadata": {},
   "source": [
    "**Observation:** Customer spend more on riding than subscriber. "
   ]
  },
  {
   "cell_type": "code",
   "execution_count": 198,
   "metadata": {},
   "outputs": [
    {
     "data": {
      "image/png": "[encoded data removed]",
      "text/plain": [
       "<Figure size 432x288 with 1 Axes>"
      ]
     },
     "metadata": {
      "needs_background": "light"
     },
     "output_type": "display_data"
    }
   ],
   "source": [
    "# Plot to show the number of user_type using the app or the clipper\n",
    "sb.countplot(data = df , x = 'user_type' , hue='rental_access_method');\n",
    "plt.title('User type VS Rental Method');"
   ]
  },
  {
   "cell_type": "markdown",
   "metadata": {},
   "source": [
    "**Observation:** As ecpected, due to this [plot](#rental), the use of app is more for both the user types.Also, the subscribers use clipper more than customer."
   ]
  },
  {
   "cell_type": "code",
   "execution_count": 230,
   "metadata": {},
   "outputs": [
    {
     "data": {
      "image/png": "[encoded data removed]",
      "text/plain": [
       "<Figure size 432x288 with 1 Axes>"
      ]
     },
     "metadata": {
      "needs_background": "light"
     },
     "output_type": "display_data"
    }
   ],
   "source": [
    "q = df.groupby(['rental_access_method']).mean().distance\n",
    "sb.barplot(x = ['app' , 'clipper'] , y=q)\n",
    "plt.title('Rental Method VS Distance on average');\n",
    "locs, labels = plt.xticks() # get the current tick locations and labels\n",
    "\n",
    "# loop through each pair of locations and labels\n",
    "for loc, label in zip(locs, labels):\n",
    "\n",
    "    # get the text property for the label to get the correct count\n",
    "    count = q[label.get_text()]\n",
    "    pct_string = '{:0.1f}'.format(count)\n",
    "\n",
    "    # print the annotation just below the top of the bar\n",
    "    plt.text(loc, 900, pct_string, ha = 'center', color = 'w');"
   ]
  },
  {
   "cell_type": "markdown",
   "metadata": {},
   "source": [
    "**Observation:** surprisingly the difference is not that high, I was expecting that the users who use app will have a long trip.but the plot above shows that the clipper users have a close trip distance on average."
   ]
  },
  {
   "cell_type": "markdown",
   "metadata": {},
   "source": [
    "### Talk about some of the relationships you observed in this part of the investigation. How did the feature(s) of interest vary with other features in the dataset?\n",
    "\n",
    "Surprisingly, customers are likely spend more in the bike than the subscribers, even that the number of subscriber is more than the customers.\n",
    "\n",
    "Also, the use of clipper on subscriber is more than customers even for the app also.\n",
    "\n",
    "\n",
    "### Did you observe any interesting relationships between the other features (not the main feature(s) of interest)?\n",
    "\n",
    "interesting relationship were found between the start_station_latitude and end_station_latitude that they have a strong relationship, also, the distance and duration had an interesting relationship that they have a low positive correlation.\n",
    "\n",
    "surprisingly in the rental method VS the distance on average\n",
    "the difference is not that high, I was expecting that the users who use app will have a long trip.but the plot above shows that the clipper users have a close trip distance on average."
   ]
  },
  {
   "cell_type": "markdown",
   "metadata": {},
   "source": [
    "## Multivariate Exploration\n",
    "\n",
    "\n"
   ]
  },
  {
   "cell_type": "code",
   "execution_count": 381,
   "metadata": {},
   "outputs": [
    {
     "data": {
      "image/png": "[encoded data removed]",
      "text/plain": [
       "<Figure size 432x288 with 1 Axes>"
      ]
     },
     "metadata": {
      "needs_background": "light"
     },
     "output_type": "display_data"
    }
   ],
   "source": [
    "# ploting for the three varibles user_type , distance and day \n",
    "sb.barplot(data=df , x = 'day' , y = 'distance' , hue = 'user_type');\n",
    "plt.xticks(rotation = 17);\n",
    "plt.ylim((0 , 3000));"
   ]
  },
  {
   "cell_type": "markdown",
   "metadata": {},
   "source": [
    "**Observation:** Customers have more distance than the subscriber for all the days, which it was not expected."
   ]
  },
  {
   "cell_type": "code",
   "execution_count": 387,
   "metadata": {},
   "outputs": [
    {
     "data": {
      "image/png": "[encoded data removed]",
      "text/plain": [
       "<Figure size 432x288 with 1 Axes>"
      ]
     },
     "metadata": {
      "needs_background": "light"
     },
     "output_type": "display_data"
    }
   ],
   "source": [
    "# ploting for the three varibles rental_access_method , distance and day \n",
    "sb.barplot(data=df , x = 'day' , y = 'distance' , hue = 'rental_access_method');\n",
    "plt.xticks(rotation = 17);"
   ]
  },
  {
   "cell_type": "markdown",
   "metadata": {},
   "source": [
    "**Observation:** The app users have more distance for all the days."
   ]
  },
  {
   "cell_type": "code",
   "execution_count": 388,
   "metadata": {},
   "outputs": [
    {
     "data": {
      "image/png": "[encoded data removed]",
      "text/plain": [
       "<Figure size 432x288 with 1 Axes>"
      ]
     },
     "metadata": {
      "needs_background": "light"
     },
     "output_type": "display_data"
    }
   ],
   "source": [
    "# ploting for the three varibles rental_access_method , duration_sec and day \n",
    "sb.barplot(data=df , x = 'user_type' , y = 'duration_sec' , hue = 'rental_access_method');\n",
    "plt.xticks(rotation = 17);"
   ]
  },
  {
   "cell_type": "markdown",
   "metadata": {},
   "source": [
    "**Observation:** When the customer is using app method he spend more time on the bike but when using clipper method the same for the subscriber"
   ]
  },
  {
   "cell_type": "markdown",
   "metadata": {},
   "source": [
    "### Talk about some of the relationships you observed in this part of the investigation. Were there features that strengthened each other in terms of looking at your feature(s) of interest?\n",
    "\n",
    "Customer using app method are more likely to spend time on the bike than the clipper method with a bigger difference than the subscribers.\n",
    "Subscriber using app method are more likely to spend time on the bike than the clipper method\n",
    "\n",
    "Regarding days, users who use app method got more distance than the users who use clipper method for all the days.\n",
    "Also, sustomers have more distance than the subscriber for all the days.\n",
    "\n",
    "### Were there any interesting or surprising interactions between features?\n",
    "\n",
    "No"
   ]
  }
 ],
 "metadata": {
  "kernelspec": {
   "display_name": "Python 3",
   "language": "python",
   "name": "python3"
  },
  "language_info": {
   "codemirror_mode": {
    "name": "ipython",
    "version": 3
   },
   "file_extension": ".py",
   "mimetype": "text/x-python",
   "name": "python",
   "nbconvert_exporter": "python",
   "pygments_lexer": "ipython3",
   "version": "3.7.6"
  }
 },
 "nbformat": 4,
 "nbformat_minor": 2
}
