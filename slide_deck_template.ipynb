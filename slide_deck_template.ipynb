{
 "cells": [
  {
   "cell_type": "markdown",
   "metadata": {
    "slideshow": {
     "slide_type": "slide"
    }
   },
   "source": [
    "# Client type behaviours in Ford GoBike System\n",
    "## by Ahmad ALMosallam"
   ]
  },
  {
   "cell_type": "markdown",
   "metadata": {
    "slideshow": {
     "slide_type": "slide"
    }
   },
   "source": [
    "## Investigation Overview\n",
    "\n",
    "I will compare the two types of Client in Ford GoBike System Dateset, customers and subscribers, in the following features:\n",
    "\n",
    "- Distance travel\n",
    "- Rental Access Method (App or Clipper)\n",
    "- Trip duration\n",
    "- Day\n",
    "\n",
    "## Dataset Overview\n",
    "\n",
    "Ford GoBike System Dateset is a dateset that contains trip data from lyft's bike service for public use. Variables including, trip duration, start time and end time with date, start station and end station names, start and end coordinates, customer type, Rental Access Method."
   ]
  },
  {
   "cell_type": "code",
   "execution_count": 1,
   "metadata": {
    "slideshow": {
     "slide_type": "skip"
    }
   },
   "outputs": [],
   "source": [
    "# import all packages and set plots to be embedded inline\n",
    "import numpy as np\n",
    "import pandas as pd\n",
    "import matplotlib.pyplot as plt\n",
    "import seaborn as sb\n",
    "\n",
    "%matplotlib inline\n",
    "\n",
    "# suppress warnings from final output\n",
    "import warnings\n",
    "warnings.simplefilter(\"ignore\")"
   ]
  },
  {
   "cell_type": "code",
   "execution_count": 3,
   "metadata": {
    "slideshow": {
     "slide_type": "skip"
    }
   },
   "outputs": [
    {
     "data": {
      "text/html": [
       "<div>\n",
       "<style scoped>\n",
       "    .dataframe tbody tr th:only-of-type {\n",
       "        vertical-align: middle;\n",
       "    }\n",
       "\n",
       "    .dataframe tbody tr th {\n",
       "        vertical-align: top;\n",
       "    }\n",
       "\n",
       "    .dataframe thead th {\n",
       "        text-align: right;\n",
       "    }\n",
       "</style>\n",
       "<table border=\"1\" class=\"dataframe\">\n",
       "  <thead>\n",
       "    <tr style=\"text-align: right;\">\n",
       "      <th></th>\n",
       "      <th>duration_sec</th>\n",
       "      <th>start_time</th>\n",
       "      <th>end_time</th>\n",
       "      <th>start_station_latitude</th>\n",
       "      <th>start_station_longitude</th>\n",
       "      <th>end_station_latitude</th>\n",
       "      <th>end_station_longitude</th>\n",
       "      <th>user_type</th>\n",
       "      <th>rental_access_method</th>\n",
       "      <th>distance</th>\n",
       "      <th>day</th>\n",
       "    </tr>\n",
       "  </thead>\n",
       "  <tbody>\n",
       "    <tr>\n",
       "      <th>0</th>\n",
       "      <td>1600</td>\n",
       "      <td>2020-01-18 19:03:45</td>\n",
       "      <td>2020-01-18 19:30:25</td>\n",
       "      <td>37.275290</td>\n",
       "      <td>-121.891857</td>\n",
       "      <td>37.280270</td>\n",
       "      <td>-121.908048</td>\n",
       "      <td>Customer</td>\n",
       "      <td>app</td>\n",
       "      <td>1536.0</td>\n",
       "      <td>Saturday</td>\n",
       "    </tr>\n",
       "    <tr>\n",
       "      <th>1</th>\n",
       "      <td>1938</td>\n",
       "      <td>2020-01-25 17:32:53</td>\n",
       "      <td>2020-01-25 18:05:12</td>\n",
       "      <td>37.279192</td>\n",
       "      <td>-121.835867</td>\n",
       "      <td>37.259106</td>\n",
       "      <td>-121.831157</td>\n",
       "      <td>Customer</td>\n",
       "      <td>app</td>\n",
       "      <td>2273.0</td>\n",
       "      <td>Saturday</td>\n",
       "    </tr>\n",
       "    <tr>\n",
       "      <th>2</th>\n",
       "      <td>2007</td>\n",
       "      <td>2020-01-25 17:33:13</td>\n",
       "      <td>2020-01-25 18:06:40</td>\n",
       "      <td>37.279202</td>\n",
       "      <td>-121.835868</td>\n",
       "      <td>37.258978</td>\n",
       "      <td>-121.831147</td>\n",
       "      <td>Customer</td>\n",
       "      <td>app</td>\n",
       "      <td>2288.0</td>\n",
       "      <td>Saturday</td>\n",
       "    </tr>\n",
       "    <tr>\n",
       "      <th>3</th>\n",
       "      <td>567</td>\n",
       "      <td>2020-01-29 15:32:04</td>\n",
       "      <td>2020-01-29 15:41:32</td>\n",
       "      <td>37.282298</td>\n",
       "      <td>-121.838755</td>\n",
       "      <td>37.292066</td>\n",
       "      <td>-121.832024</td>\n",
       "      <td>Customer</td>\n",
       "      <td>app</td>\n",
       "      <td>1239.0</td>\n",
       "      <td>Wednesday</td>\n",
       "    </tr>\n",
       "    <tr>\n",
       "      <th>4</th>\n",
       "      <td>1107</td>\n",
       "      <td>2020-01-30 17:41:38</td>\n",
       "      <td>2020-01-30 18:00:05</td>\n",
       "      <td>37.283072</td>\n",
       "      <td>-121.832709</td>\n",
       "      <td>37.304321</td>\n",
       "      <td>-121.860995</td>\n",
       "      <td>Customer</td>\n",
       "      <td>app</td>\n",
       "      <td>3443.0</td>\n",
       "      <td>Thursday</td>\n",
       "    </tr>\n",
       "  </tbody>\n",
       "</table>\n",
       "</div>"
      ],
      "text/plain": [
       "   duration_sec           start_time             end_time  \\\n",
       "0          1600  2020-01-18 19:03:45  2020-01-18 19:30:25   \n",
       "1          1938  2020-01-25 17:32:53  2020-01-25 18:05:12   \n",
       "2          2007  2020-01-25 17:33:13  2020-01-25 18:06:40   \n",
       "3           567  2020-01-29 15:32:04  2020-01-29 15:41:32   \n",
       "4          1107  2020-01-30 17:41:38  2020-01-30 18:00:05   \n",
       "\n",
       "   start_station_latitude  start_station_longitude  end_station_latitude  \\\n",
       "0               37.275290              -121.891857             37.280270   \n",
       "1               37.279192              -121.835867             37.259106   \n",
       "2               37.279202              -121.835868             37.258978   \n",
       "3               37.282298              -121.838755             37.292066   \n",
       "4               37.283072              -121.832709             37.304321   \n",
       "\n",
       "   end_station_longitude user_type rental_access_method  distance        day  \n",
       "0            -121.908048  Customer                  app    1536.0   Saturday  \n",
       "1            -121.831157  Customer                  app    2273.0   Saturday  \n",
       "2            -121.831147  Customer                  app    2288.0   Saturday  \n",
       "3            -121.832024  Customer                  app    1239.0  Wednesday  \n",
       "4            -121.860995  Customer                  app    3443.0   Thursday  "
      ]
     },
     "execution_count": 3,
     "metadata": {},
     "output_type": "execute_result"
    }
   ],
   "source": [
    "# load in the dataset into a pandas dataframe\n",
    "df = pd.read_csv('slide_deck.csv')\n",
    "df.head()"
   ]
  },
  {
   "cell_type": "markdown",
   "metadata": {
    "slideshow": {
     "slide_type": "slide"
    }
   },
   "source": [
    "## Number of Subscribers and Customers\n",
    "\n",
    "In this dataset the number of subscribers is more than the customers."
   ]
  },
  {
   "cell_type": "code",
   "execution_count": 9,
   "metadata": {
    "slideshow": {
     "slide_type": "subslide"
    }
   },
   "outputs": [
    {
     "data": {
      "image/png": "[encoded data removed]",
      "text/plain": [
       "<Figure size 432x288 with 1 Axes>"
      ]
     },
     "metadata": {
      "needs_background": "light"
     },
     "output_type": "display_data"
    }
   ],
   "source": [
    "# Plot of the type of users\n",
    "type_user = df.user_type.value_counts()\n",
    "sb.countplot(data = df , x = 'user_type' , color = sb.color_palette()[0]);\n",
    "plt.title('comparison on the number of Subscriber and customer');\n",
    "plt.ylabel('Count')\n",
    "plt.xlabel('Type of clients');\n",
    "locs, labels = plt.xticks() # get the current tick locations and labels\n",
    "# loop through each pair of locations and labels\n",
    "for loc, label in zip(locs, labels):\n",
    "\n",
    "    # get the text property for the label to get the correct count\n",
    "    count = type_user[label.get_text()]\n",
    "    pct_string = '{:0.1f}%'.format(100*count/df.shape[0])\n",
    "\n",
    "    # print the annotation just below the top of the bar\n",
    "    plt.text(loc, 50000, pct_string, ha = 'center', color = 'w');"
   ]
  },
  {
   "cell_type": "markdown",
   "metadata": {
    "collapsed": true,
    "slideshow": {
     "slide_type": "slide"
    }
   },
   "source": [
    "## Clients VS Duration\n",
    "\n",
    "Subscribers are more likey to spend less time on the trips, while customers are more likey to spend more time on the trips."
   ]
  },
  {
   "cell_type": "code",
   "execution_count": 11,
   "metadata": {
    "slideshow": {
     "slide_type": "subslide"
    }
   },
   "outputs": [
    {
     "data": {
      "image/png": "[encoded data removed]",
      "text/plain": [
       "<Figure size 432x288 with 1 Axes>"
      ]
     },
     "metadata": {
      "needs_background": "light"
     },
     "output_type": "display_data"
    }
   ],
   "source": [
    "sb.barplot(data = df.query(\"distance <= 2133+ 1.5*1247\"),x = 'user_type',y='duration_sec',\n",
    "               color = sb.color_palette()[0]);\n",
    "plt.title('How on average user type spend on the bike');\n",
    "plt.xlabel('Type of clients');\n",
    "plt.ylabel('Duration(sec)');"
   ]
  },
  {
   "cell_type": "markdown",
   "metadata": {
    "slideshow": {
     "slide_type": "slide"
    }
   },
   "source": [
    "## User type VS Rental Access Method\n",
    "\n",
    "Most of the customers use app method and a slight of them use clipper method, also the same for subscribers, most of them use app method.\n",
    "\n",
    "It tends to the clients to use the app method than the clipper method"
   ]
  },
  {
   "cell_type": "code",
   "execution_count": 14,
   "metadata": {
    "slideshow": {
     "slide_type": "subslide"
    }
   },
   "outputs": [
    {
     "data": {
      "image/png": "[encoded data removed]",
      "text/plain": [
       "<Figure size 432x288 with 1 Axes>"
      ]
     },
     "metadata": {
      "needs_background": "light"
     },
     "output_type": "display_data"
    }
   ],
   "source": [
    "sb.countplot(data = df , x = 'user_type' , hue='rental_access_method');\n",
    "plt.title('User type VS Rental Method');\n",
    "plt.xlabel('Type of clients');\n",
    "plt.ylabel('Counts');\n",
    "plt.legend(title = 'Rental Access Method');"
   ]
  },
  {
   "cell_type": "markdown",
   "metadata": {
    "slideshow": {
     "slide_type": "slide"
    }
   },
   "source": [
    "# Client VS Distance VS Day\n",
    "\n",
    "\n",
    "Customers have longer trips than subscribers on all the days, which means they have longer trips than the subscribers in overall."
   ]
  },
  {
   "cell_type": "code",
   "execution_count": 17,
   "metadata": {
    "slideshow": {
     "slide_type": "subslide"
    }
   },
   "outputs": [
    {
     "data": {
      "image/png": "[encoded data removed]",
      "text/plain": [
       "<Figure size 432x288 with 1 Axes>"
      ]
     },
     "metadata": {
      "needs_background": "light"
     },
     "output_type": "display_data"
    }
   ],
   "source": [
    "sb.barplot(data=df , x = 'day' , y = 'distance' , hue = 'user_type');\n",
    "plt.xticks(rotation = 17);\n",
    "plt.xlabel('Day Of The Week')\n",
    "plt.ylabel('Distance(Meters)')\n",
    "plt.title('Clients distance for each day of the week');"
   ]
  },
  {
   "cell_type": "markdown",
   "metadata": {
    "slideshow": {
     "slide_type": "skip"
    }
   },
   "source": [
    "> Once you're ready to finish your presentation, check your output by using\n",
    "nbconvert to export the notebook and set up a server for the slides. From the\n",
    "terminal or command line, use the following expression:\n",
    "> > `jupyter nbconvert <file_name>.ipynb --to slides --post serve --template output_toggle`\n",
    "\n",
    "> This should open a tab in your web browser where you can scroll through your\n",
    "presentation. Sub-slides can be accessed by pressing 'down' when viewing its parent\n",
    "slide. Make sure you remove all of the quote-formatted guide notes like this one\n",
    "before you finish your presentation!"
   ]
  },
  {
   "cell_type": "code",
   "execution_count": null,
   "metadata": {},
   "outputs": [],
   "source": []
  }
 ],
 "metadata": {
  "celltoolbar": "Slideshow",
  "kernelspec": {
   "display_name": "Python 3",
   "language": "python",
   "name": "python3"
  },
  "language_info": {
   "codemirror_mode": {
    "name": "ipython",
    "version": 3
   },
   "file_extension": ".py",
   "mimetype": "text/x-python",
   "name": "python",
   "nbconvert_exporter": "python",
   "pygments_lexer": "ipython3",
   "version": "3.7.6"
  }
 },
 "nbformat": 4,
 "nbformat_minor": 2
}
